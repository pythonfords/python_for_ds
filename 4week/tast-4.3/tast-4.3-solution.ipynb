{
  "nbformat": 4,
  "nbformat_minor": 0,
  "metadata": {
    "colab": {
      "name": "tast-4.3-solution.ipynb",
      "version": "0.3.2",
      "provenance": [],
      "toc_visible": true,
      "include_colab_link": true
    },
    "kernelspec": {
      "display_name": "Python 3",
      "language": "python",
      "name": "python3"
    }
  },
  "cells": [
    {
      "cell_type": "markdown",
      "metadata": {
        "id": "view-in-github",
        "colab_type": "text"
      },
      "source": [
        "<a href=\"https://colab.research.google.com/github/pythonfords/python_for_ds/blob/master/4week/tast-4.3/tast-4.3-solution.ipynb\" target=\"_parent\"><img src=\"https://colab.research.google.com/assets/colab-badge.svg\" alt=\"Open In Colab\"/></a>"
      ]
    },
    {
      "metadata": {
        "id": "7RgZBOzsscJZ",
        "colab_type": "text"
      },
      "cell_type": "markdown",
      "source": [
        "# Введение в рекомендательные системы\n",
        "\n",
        "## Коллаборативная фильтрация"
      ]
    },
    {
      "metadata": {
        "id": "4wQcGaagscJd",
        "colab_type": "text"
      },
      "cell_type": "markdown",
      "source": [
        "В этом задании мы закончим имплементацию коллаборативной фильтрации.\n",
        "\n",
        "Для этого - выполним действия, необходимые для создания матрицы рейтингов"
      ]
    },
    {
      "metadata": {
        "id": "q89G0pNWscJg",
        "colab_type": "code",
        "colab": {}
      },
      "cell_type": "code",
      "source": [
        "import os\n",
        "import numpy as np\n",
        "import pandas as pd\n",
        "import matplotlib.pyplot as plt\n",
        "from tqdm import tqdm_notebook\n",
        "\n",
        "%matplotlib inline\n",
        "\n",
        "plt.style.use('ggplot')\n",
        "plt.rcParams['figure.figsize'] = (12, 6)"
      ],
      "execution_count": 0,
      "outputs": []
    },
    {
      "metadata": {
        "id": "HZnQoNz6sfFo",
        "colab_type": "code",
        "colab": {}
      },
      "cell_type": "code",
      "source": [
        ""
      ],
      "execution_count": 0,
      "outputs": []
    },
    {
      "metadata": {
        "id": "iGDJN8UYsij9",
        "colab_type": "code",
        "colab": {
          "base_uri": "https://localhost:8080/",
          "height": 54
        },
        "outputId": "2a911dfb-5d98-4ba3-858e-ee18ef580e6c"
      },
      "cell_type": "code",
      "source": [
        "from google.colab import drive\n",
        "drive.mount('/gdrive')"
      ],
      "execution_count": 2,
      "outputs": [
        {
          "output_type": "stream",
          "text": [
            "Drive already mounted at /gdrive; to attempt to forcibly remount, call drive.mount(\"/gdrive\", force_remount=True).\n"
          ],
          "name": "stdout"
        }
      ]
    },
    {
      "metadata": {
        "id": "RRVKtOBTscJm",
        "colab_type": "code",
        "colab": {}
      },
      "cell_type": "code",
      "source": [
        "filepath = '/gdrive/My Drive/data/4week/4.3/user_ratedmovies.dat'\n",
        "df_rates = pd.read_csv(filepath, sep='\\t')"
      ],
      "execution_count": 0,
      "outputs": []
    },
    {
      "metadata": {
        "id": "1OUTMnJuscJr",
        "colab_type": "code",
        "colab": {}
      },
      "cell_type": "code",
      "source": [
        "filepath = '/gdrive/My Drive/data/4week/4.3/movies.dat'\n",
        "df_movies = pd.read_csv(filepath, sep='\\t', encoding='iso-8859-1')"
      ],
      "execution_count": 0,
      "outputs": []
    },
    {
      "metadata": {
        "id": "IAE61W6-tXAI",
        "colab_type": "code",
        "colab": {
          "base_uri": "https://localhost:8080/",
          "height": 218
        },
        "outputId": "ffe6a47a-fa11-4658-83a2-ba354777065e"
      },
      "cell_type": "code",
      "source": [
        "df_rates.head()"
      ],
      "execution_count": 5,
      "outputs": [
        {
          "output_type": "execute_result",
          "data": {
            "text/html": [
              "<div>\n",
              "<style scoped>\n",
              "    .dataframe tbody tr th:only-of-type {\n",
              "        vertical-align: middle;\n",
              "    }\n",
              "\n",
              "    .dataframe tbody tr th {\n",
              "        vertical-align: top;\n",
              "    }\n",
              "\n",
              "    .dataframe thead th {\n",
              "        text-align: right;\n",
              "    }\n",
              "</style>\n",
              "<table border=\"1\" class=\"dataframe\">\n",
              "  <thead>\n",
              "    <tr style=\"text-align: right;\">\n",
              "      <th></th>\n",
              "      <th>userID</th>\n",
              "      <th>movieID</th>\n",
              "      <th>rating</th>\n",
              "      <th>date_day</th>\n",
              "      <th>date_month</th>\n",
              "      <th>date_year</th>\n",
              "      <th>date_hour</th>\n",
              "      <th>date_minute</th>\n",
              "      <th>date_second</th>\n",
              "    </tr>\n",
              "  </thead>\n",
              "  <tbody>\n",
              "    <tr>\n",
              "      <th>0</th>\n",
              "      <td>75</td>\n",
              "      <td>3</td>\n",
              "      <td>1.0</td>\n",
              "      <td>29</td>\n",
              "      <td>10</td>\n",
              "      <td>2006</td>\n",
              "      <td>23</td>\n",
              "      <td>17</td>\n",
              "      <td>16</td>\n",
              "    </tr>\n",
              "    <tr>\n",
              "      <th>1</th>\n",
              "      <td>75</td>\n",
              "      <td>32</td>\n",
              "      <td>4.5</td>\n",
              "      <td>29</td>\n",
              "      <td>10</td>\n",
              "      <td>2006</td>\n",
              "      <td>23</td>\n",
              "      <td>23</td>\n",
              "      <td>44</td>\n",
              "    </tr>\n",
              "    <tr>\n",
              "      <th>2</th>\n",
              "      <td>75</td>\n",
              "      <td>110</td>\n",
              "      <td>4.0</td>\n",
              "      <td>29</td>\n",
              "      <td>10</td>\n",
              "      <td>2006</td>\n",
              "      <td>23</td>\n",
              "      <td>30</td>\n",
              "      <td>8</td>\n",
              "    </tr>\n",
              "    <tr>\n",
              "      <th>3</th>\n",
              "      <td>75</td>\n",
              "      <td>160</td>\n",
              "      <td>2.0</td>\n",
              "      <td>29</td>\n",
              "      <td>10</td>\n",
              "      <td>2006</td>\n",
              "      <td>23</td>\n",
              "      <td>16</td>\n",
              "      <td>52</td>\n",
              "    </tr>\n",
              "    <tr>\n",
              "      <th>4</th>\n",
              "      <td>75</td>\n",
              "      <td>163</td>\n",
              "      <td>4.0</td>\n",
              "      <td>29</td>\n",
              "      <td>10</td>\n",
              "      <td>2006</td>\n",
              "      <td>23</td>\n",
              "      <td>29</td>\n",
              "      <td>30</td>\n",
              "    </tr>\n",
              "  </tbody>\n",
              "</table>\n",
              "</div>"
            ],
            "text/plain": [
              "   userID  movieID  rating  date_day  date_month  date_year  date_hour  \\\n",
              "0      75        3     1.0        29          10       2006         23   \n",
              "1      75       32     4.5        29          10       2006         23   \n",
              "2      75      110     4.0        29          10       2006         23   \n",
              "3      75      160     2.0        29          10       2006         23   \n",
              "4      75      163     4.0        29          10       2006         23   \n",
              "\n",
              "   date_minute  date_second  \n",
              "0           17           16  \n",
              "1           23           44  \n",
              "2           30            8  \n",
              "3           16           52  \n",
              "4           29           30  "
            ]
          },
          "metadata": {
            "tags": []
          },
          "execution_count": 5
        }
      ]
    },
    {
      "metadata": {
        "id": "56HgMYa1tfb_",
        "colab_type": "code",
        "colab": {
          "base_uri": "https://localhost:8080/",
          "height": 403
        },
        "outputId": "1647cf4a-52b8-47bd-dc30-764ed84b22a8"
      },
      "cell_type": "code",
      "source": [
        "df_movies.head()"
      ],
      "execution_count": 6,
      "outputs": [
        {
          "output_type": "execute_result",
          "data": {
            "text/html": [
              "<div>\n",
              "<style scoped>\n",
              "    .dataframe tbody tr th:only-of-type {\n",
              "        vertical-align: middle;\n",
              "    }\n",
              "\n",
              "    .dataframe tbody tr th {\n",
              "        vertical-align: top;\n",
              "    }\n",
              "\n",
              "    .dataframe thead th {\n",
              "        text-align: right;\n",
              "    }\n",
              "</style>\n",
              "<table border=\"1\" class=\"dataframe\">\n",
              "  <thead>\n",
              "    <tr style=\"text-align: right;\">\n",
              "      <th></th>\n",
              "      <th>id</th>\n",
              "      <th>title</th>\n",
              "      <th>imdbID</th>\n",
              "      <th>spanishTitle</th>\n",
              "      <th>imdbPictureURL</th>\n",
              "      <th>year</th>\n",
              "      <th>rtID</th>\n",
              "      <th>rtAllCriticsRating</th>\n",
              "      <th>rtAllCriticsNumReviews</th>\n",
              "      <th>rtAllCriticsNumFresh</th>\n",
              "      <th>...</th>\n",
              "      <th>rtAllCriticsScore</th>\n",
              "      <th>rtTopCriticsRating</th>\n",
              "      <th>rtTopCriticsNumReviews</th>\n",
              "      <th>rtTopCriticsNumFresh</th>\n",
              "      <th>rtTopCriticsNumRotten</th>\n",
              "      <th>rtTopCriticsScore</th>\n",
              "      <th>rtAudienceRating</th>\n",
              "      <th>rtAudienceNumRatings</th>\n",
              "      <th>rtAudienceScore</th>\n",
              "      <th>rtPictureURL</th>\n",
              "    </tr>\n",
              "  </thead>\n",
              "  <tbody>\n",
              "    <tr>\n",
              "      <th>0</th>\n",
              "      <td>1</td>\n",
              "      <td>Toy story</td>\n",
              "      <td>114709</td>\n",
              "      <td>Toy story (juguetes)</td>\n",
              "      <td>http://ia.media-imdb.com/images/M/MV5BMTMwNDU0...</td>\n",
              "      <td>1995</td>\n",
              "      <td>toy_story</td>\n",
              "      <td>9</td>\n",
              "      <td>73</td>\n",
              "      <td>73</td>\n",
              "      <td>...</td>\n",
              "      <td>100</td>\n",
              "      <td>8.5</td>\n",
              "      <td>17</td>\n",
              "      <td>17</td>\n",
              "      <td>0</td>\n",
              "      <td>100</td>\n",
              "      <td>3.7</td>\n",
              "      <td>102338</td>\n",
              "      <td>81</td>\n",
              "      <td>http://content7.flixster.com/movie/10/93/63/10...</td>\n",
              "    </tr>\n",
              "    <tr>\n",
              "      <th>1</th>\n",
              "      <td>2</td>\n",
              "      <td>Jumanji</td>\n",
              "      <td>113497</td>\n",
              "      <td>Jumanji</td>\n",
              "      <td>http://ia.media-imdb.com/images/M/MV5BMzM5NjE1...</td>\n",
              "      <td>1995</td>\n",
              "      <td>1068044-jumanji</td>\n",
              "      <td>5.6</td>\n",
              "      <td>28</td>\n",
              "      <td>13</td>\n",
              "      <td>...</td>\n",
              "      <td>46</td>\n",
              "      <td>5.8</td>\n",
              "      <td>5</td>\n",
              "      <td>2</td>\n",
              "      <td>3</td>\n",
              "      <td>40</td>\n",
              "      <td>3.2</td>\n",
              "      <td>44587</td>\n",
              "      <td>61</td>\n",
              "      <td>http://content8.flixster.com/movie/56/79/73/56...</td>\n",
              "    </tr>\n",
              "    <tr>\n",
              "      <th>2</th>\n",
              "      <td>3</td>\n",
              "      <td>Grumpy Old Men</td>\n",
              "      <td>107050</td>\n",
              "      <td>Dos viejos gruñones</td>\n",
              "      <td>http://ia.media-imdb.com/images/M/MV5BMTI5MTgy...</td>\n",
              "      <td>1993</td>\n",
              "      <td>grumpy_old_men</td>\n",
              "      <td>5.9</td>\n",
              "      <td>36</td>\n",
              "      <td>24</td>\n",
              "      <td>...</td>\n",
              "      <td>66</td>\n",
              "      <td>7</td>\n",
              "      <td>6</td>\n",
              "      <td>5</td>\n",
              "      <td>1</td>\n",
              "      <td>83</td>\n",
              "      <td>3.2</td>\n",
              "      <td>10489</td>\n",
              "      <td>66</td>\n",
              "      <td>http://content6.flixster.com/movie/25/60/25602...</td>\n",
              "    </tr>\n",
              "    <tr>\n",
              "      <th>3</th>\n",
              "      <td>4</td>\n",
              "      <td>Waiting to Exhale</td>\n",
              "      <td>114885</td>\n",
              "      <td>Esperando un respiro</td>\n",
              "      <td>http://ia.media-imdb.com/images/M/MV5BMTczMTMy...</td>\n",
              "      <td>1995</td>\n",
              "      <td>waiting_to_exhale</td>\n",
              "      <td>5.6</td>\n",
              "      <td>25</td>\n",
              "      <td>14</td>\n",
              "      <td>...</td>\n",
              "      <td>56</td>\n",
              "      <td>5.5</td>\n",
              "      <td>11</td>\n",
              "      <td>5</td>\n",
              "      <td>6</td>\n",
              "      <td>45</td>\n",
              "      <td>3.3</td>\n",
              "      <td>5666</td>\n",
              "      <td>79</td>\n",
              "      <td>http://content9.flixster.com/movie/10/94/17/10...</td>\n",
              "    </tr>\n",
              "    <tr>\n",
              "      <th>4</th>\n",
              "      <td>5</td>\n",
              "      <td>Father of the Bride Part II</td>\n",
              "      <td>113041</td>\n",
              "      <td>Vuelve el padre de la novia (Ahora también abu...</td>\n",
              "      <td>http://ia.media-imdb.com/images/M/MV5BMTg1NDc2...</td>\n",
              "      <td>1995</td>\n",
              "      <td>father_of_the_bride_part_ii</td>\n",
              "      <td>5.3</td>\n",
              "      <td>19</td>\n",
              "      <td>9</td>\n",
              "      <td>...</td>\n",
              "      <td>47</td>\n",
              "      <td>5.4</td>\n",
              "      <td>5</td>\n",
              "      <td>1</td>\n",
              "      <td>4</td>\n",
              "      <td>20</td>\n",
              "      <td>3</td>\n",
              "      <td>13761</td>\n",
              "      <td>64</td>\n",
              "      <td>http://content8.flixster.com/movie/25/54/25542...</td>\n",
              "    </tr>\n",
              "  </tbody>\n",
              "</table>\n",
              "<p>5 rows × 21 columns</p>\n",
              "</div>"
            ],
            "text/plain": [
              "   id                        title  imdbID  \\\n",
              "0   1                    Toy story  114709   \n",
              "1   2                      Jumanji  113497   \n",
              "2   3               Grumpy Old Men  107050   \n",
              "3   4            Waiting to Exhale  114885   \n",
              "4   5  Father of the Bride Part II  113041   \n",
              "\n",
              "                                        spanishTitle  \\\n",
              "0                               Toy story (juguetes)   \n",
              "1                                            Jumanji   \n",
              "2                                Dos viejos gruñones   \n",
              "3                               Esperando un respiro   \n",
              "4  Vuelve el padre de la novia (Ahora también abu...   \n",
              "\n",
              "                                      imdbPictureURL  year  \\\n",
              "0  http://ia.media-imdb.com/images/M/MV5BMTMwNDU0...  1995   \n",
              "1  http://ia.media-imdb.com/images/M/MV5BMzM5NjE1...  1995   \n",
              "2  http://ia.media-imdb.com/images/M/MV5BMTI5MTgy...  1993   \n",
              "3  http://ia.media-imdb.com/images/M/MV5BMTczMTMy...  1995   \n",
              "4  http://ia.media-imdb.com/images/M/MV5BMTg1NDc2...  1995   \n",
              "\n",
              "                          rtID rtAllCriticsRating rtAllCriticsNumReviews  \\\n",
              "0                    toy_story                  9                     73   \n",
              "1              1068044-jumanji                5.6                     28   \n",
              "2               grumpy_old_men                5.9                     36   \n",
              "3            waiting_to_exhale                5.6                     25   \n",
              "4  father_of_the_bride_part_ii                5.3                     19   \n",
              "\n",
              "  rtAllCriticsNumFresh                        ...                          \\\n",
              "0                   73                        ...                           \n",
              "1                   13                        ...                           \n",
              "2                   24                        ...                           \n",
              "3                   14                        ...                           \n",
              "4                    9                        ...                           \n",
              "\n",
              "  rtAllCriticsScore rtTopCriticsRating rtTopCriticsNumReviews  \\\n",
              "0               100                8.5                     17   \n",
              "1                46                5.8                      5   \n",
              "2                66                  7                      6   \n",
              "3                56                5.5                     11   \n",
              "4                47                5.4                      5   \n",
              "\n",
              "  rtTopCriticsNumFresh rtTopCriticsNumRotten rtTopCriticsScore  \\\n",
              "0                   17                     0               100   \n",
              "1                    2                     3                40   \n",
              "2                    5                     1                83   \n",
              "3                    5                     6                45   \n",
              "4                    1                     4                20   \n",
              "\n",
              "  rtAudienceRating rtAudienceNumRatings rtAudienceScore  \\\n",
              "0              3.7               102338              81   \n",
              "1              3.2                44587              61   \n",
              "2              3.2                10489              66   \n",
              "3              3.3                 5666              79   \n",
              "4                3                13761              64   \n",
              "\n",
              "                                        rtPictureURL  \n",
              "0  http://content7.flixster.com/movie/10/93/63/10...  \n",
              "1  http://content8.flixster.com/movie/56/79/73/56...  \n",
              "2  http://content6.flixster.com/movie/25/60/25602...  \n",
              "3  http://content9.flixster.com/movie/10/94/17/10...  \n",
              "4  http://content8.flixster.com/movie/25/54/25542...  \n",
              "\n",
              "[5 rows x 21 columns]"
            ]
          },
          "metadata": {
            "tags": []
          },
          "execution_count": 6
        }
      ]
    },
    {
      "metadata": {
        "id": "i120dnlFscJv",
        "colab_type": "text"
      },
      "cell_type": "markdown",
      "source": [
        "# Перекодируем ID фильмов и пользователей"
      ]
    },
    {
      "metadata": {
        "id": "orNmz6bfscJx",
        "colab_type": "code",
        "colab": {}
      },
      "cell_type": "code",
      "source": [
        "from sklearn.preprocessing import LabelEncoder"
      ],
      "execution_count": 0,
      "outputs": []
    },
    {
      "metadata": {
        "id": "cef3J5p3scJ5",
        "colab_type": "code",
        "colab": {}
      },
      "cell_type": "code",
      "source": [
        "enc_user = LabelEncoder()\n",
        "enc_mov = LabelEncoder()"
      ],
      "execution_count": 0,
      "outputs": []
    },
    {
      "metadata": {
        "id": "GaW_Xr3NscJ9",
        "colab_type": "code",
        "colab": {}
      },
      "cell_type": "code",
      "source": [
        "enc_user = enc_user.fit(df_rates.userID.values)\n",
        "enc_mov = enc_mov.fit(df_rates.movieID.values)"
      ],
      "execution_count": 0,
      "outputs": []
    },
    {
      "metadata": {
        "id": "qSimxR6BscKC",
        "colab_type": "code",
        "colab": {}
      },
      "cell_type": "code",
      "source": [
        "idx = df_movies.loc[:, 'id'].isin(df_rates.movieID)\n",
        "df_movies = df_movies.loc[idx]"
      ],
      "execution_count": 0,
      "outputs": []
    },
    {
      "metadata": {
        "id": "jBV9t1PXscKI",
        "colab_type": "code",
        "colab": {}
      },
      "cell_type": "code",
      "source": [
        "df_rates.loc[:, 'userID'] = enc_user.transform(df_rates.loc[:, 'userID'].values)\n",
        "df_rates.loc[:, 'movieID'] = enc_mov.transform(df_rates.loc[:, 'movieID'].values)\n",
        "df_movies.loc[:, 'id'] = enc_mov.transform(df_movies.loc[:, 'id'].values)"
      ],
      "execution_count": 0,
      "outputs": []
    },
    {
      "metadata": {
        "id": "g2AyG0yIscKR",
        "colab_type": "code",
        "colab": {
          "base_uri": "https://localhost:8080/",
          "height": 218
        },
        "outputId": "5fe3418b-c687-4c30-9e73-219fca2d38fe"
      },
      "cell_type": "code",
      "source": [
        "df_rates.head()"
      ],
      "execution_count": 12,
      "outputs": [
        {
          "output_type": "execute_result",
          "data": {
            "text/html": [
              "<div>\n",
              "<style scoped>\n",
              "    .dataframe tbody tr th:only-of-type {\n",
              "        vertical-align: middle;\n",
              "    }\n",
              "\n",
              "    .dataframe tbody tr th {\n",
              "        vertical-align: top;\n",
              "    }\n",
              "\n",
              "    .dataframe thead th {\n",
              "        text-align: right;\n",
              "    }\n",
              "</style>\n",
              "<table border=\"1\" class=\"dataframe\">\n",
              "  <thead>\n",
              "    <tr style=\"text-align: right;\">\n",
              "      <th></th>\n",
              "      <th>userID</th>\n",
              "      <th>movieID</th>\n",
              "      <th>rating</th>\n",
              "      <th>date_day</th>\n",
              "      <th>date_month</th>\n",
              "      <th>date_year</th>\n",
              "      <th>date_hour</th>\n",
              "      <th>date_minute</th>\n",
              "      <th>date_second</th>\n",
              "    </tr>\n",
              "  </thead>\n",
              "  <tbody>\n",
              "    <tr>\n",
              "      <th>0</th>\n",
              "      <td>0</td>\n",
              "      <td>2</td>\n",
              "      <td>1.0</td>\n",
              "      <td>29</td>\n",
              "      <td>10</td>\n",
              "      <td>2006</td>\n",
              "      <td>23</td>\n",
              "      <td>17</td>\n",
              "      <td>16</td>\n",
              "    </tr>\n",
              "    <tr>\n",
              "      <th>1</th>\n",
              "      <td>0</td>\n",
              "      <td>31</td>\n",
              "      <td>4.5</td>\n",
              "      <td>29</td>\n",
              "      <td>10</td>\n",
              "      <td>2006</td>\n",
              "      <td>23</td>\n",
              "      <td>23</td>\n",
              "      <td>44</td>\n",
              "    </tr>\n",
              "    <tr>\n",
              "      <th>2</th>\n",
              "      <td>0</td>\n",
              "      <td>105</td>\n",
              "      <td>4.0</td>\n",
              "      <td>29</td>\n",
              "      <td>10</td>\n",
              "      <td>2006</td>\n",
              "      <td>23</td>\n",
              "      <td>30</td>\n",
              "      <td>8</td>\n",
              "    </tr>\n",
              "    <tr>\n",
              "      <th>3</th>\n",
              "      <td>0</td>\n",
              "      <td>151</td>\n",
              "      <td>2.0</td>\n",
              "      <td>29</td>\n",
              "      <td>10</td>\n",
              "      <td>2006</td>\n",
              "      <td>23</td>\n",
              "      <td>16</td>\n",
              "      <td>52</td>\n",
              "    </tr>\n",
              "    <tr>\n",
              "      <th>4</th>\n",
              "      <td>0</td>\n",
              "      <td>154</td>\n",
              "      <td>4.0</td>\n",
              "      <td>29</td>\n",
              "      <td>10</td>\n",
              "      <td>2006</td>\n",
              "      <td>23</td>\n",
              "      <td>29</td>\n",
              "      <td>30</td>\n",
              "    </tr>\n",
              "  </tbody>\n",
              "</table>\n",
              "</div>"
            ],
            "text/plain": [
              "   userID  movieID  rating  date_day  date_month  date_year  date_hour  \\\n",
              "0       0        2     1.0        29          10       2006         23   \n",
              "1       0       31     4.5        29          10       2006         23   \n",
              "2       0      105     4.0        29          10       2006         23   \n",
              "3       0      151     2.0        29          10       2006         23   \n",
              "4       0      154     4.0        29          10       2006         23   \n",
              "\n",
              "   date_minute  date_second  \n",
              "0           17           16  \n",
              "1           23           44  \n",
              "2           30            8  \n",
              "3           16           52  \n",
              "4           29           30  "
            ]
          },
          "metadata": {
            "tags": []
          },
          "execution_count": 12
        }
      ]
    },
    {
      "metadata": {
        "id": "KbDZmapDscKW",
        "colab_type": "text"
      },
      "cell_type": "markdown",
      "source": [
        "## Матрица рейтингов"
      ]
    },
    {
      "metadata": {
        "id": "SSYrulUescKY",
        "colab_type": "code",
        "colab": {}
      },
      "cell_type": "code",
      "source": [
        "from scipy.sparse import coo_matrix, csr_matrix"
      ],
      "execution_count": 0,
      "outputs": []
    },
    {
      "metadata": {
        "id": "UWf0OK8CscKb",
        "colab_type": "code",
        "colab": {}
      },
      "cell_type": "code",
      "source": [
        "R = coo_matrix((df_rates.rating.values, (df_rates.userID.values, df_rates.movieID.values)))"
      ],
      "execution_count": 0,
      "outputs": []
    },
    {
      "metadata": {
        "id": "uFc8oc-PscKe",
        "colab_type": "code",
        "colab": {
          "base_uri": "https://localhost:8080/",
          "height": 52
        },
        "outputId": "8fcba2ac-7fb2-4f04-acfd-0413738c3f7c"
      },
      "cell_type": "code",
      "source": [
        "R"
      ],
      "execution_count": 15,
      "outputs": [
        {
          "output_type": "execute_result",
          "data": {
            "text/plain": [
              "<2113x10109 sparse matrix of type '<class 'numpy.float64'>'\n",
              "\twith 855598 stored elements in COOrdinate format>"
            ]
          },
          "metadata": {
            "tags": []
          },
          "execution_count": 15
        }
      ]
    },
    {
      "metadata": {
        "id": "lpqG8OvNscKj",
        "colab_type": "text"
      },
      "cell_type": "markdown",
      "source": [
        "## Похожесть между пользователями"
      ]
    },
    {
      "metadata": {
        "id": "EWHXneLiscKk",
        "colab_type": "text"
      },
      "cell_type": "markdown",
      "source": [
        "В дальнейшем нам будет удобнее работать с форматом `Compressed Sparse Row matrix`. К счастью переформатировать полученную нами матрицу можно одной командой:"
      ]
    },
    {
      "metadata": {
        "scrolled": true,
        "id": "17-X-Pc6scKl",
        "colab_type": "code",
        "colab": {}
      },
      "cell_type": "code",
      "source": [
        "R = R.tocsr()"
      ],
      "execution_count": 0,
      "outputs": []
    },
    {
      "metadata": {
        "id": "-owPhvSOscKp",
        "colab_type": "text"
      },
      "cell_type": "markdown",
      "source": [
        "Теперь, например, рейтинги для первого пользователя можно достать так:"
      ]
    },
    {
      "metadata": {
        "id": "ktY0p7CmscKq",
        "colab_type": "code",
        "colab": {
          "base_uri": "https://localhost:8080/",
          "height": 52
        },
        "outputId": "70974e01-d2d5-4ce6-f6c9-6b890550283a"
      },
      "cell_type": "code",
      "source": [
        "user_1 = R[0]\n",
        "user_1"
      ],
      "execution_count": 17,
      "outputs": [
        {
          "output_type": "execute_result",
          "data": {
            "text/plain": [
              "<1x10109 sparse matrix of type '<class 'numpy.float64'>'\n",
              "\twith 55 stored elements in Compressed Sparse Row format>"
            ]
          },
          "metadata": {
            "tags": []
          },
          "execution_count": 17
        }
      ]
    },
    {
      "metadata": {
        "id": "2uidmzqiscKv",
        "colab_type": "text"
      },
      "cell_type": "markdown",
      "source": [
        "Так как вы возможно не работали с разреженным форматом матриц, устроим небольшой ликбез.\n",
        "\n",
        "Первым делом, надо понадобится вектор для другого пользователя:"
      ]
    },
    {
      "metadata": {
        "id": "e9kgh1d5scKw",
        "colab_type": "code",
        "colab": {
          "base_uri": "https://localhost:8080/",
          "height": 52
        },
        "outputId": "eadfe49c-7dd2-4e7c-8d5c-ab16424e8998"
      },
      "cell_type": "code",
      "source": [
        "user_2 = R[1]\n",
        "user_2"
      ],
      "execution_count": 18,
      "outputs": [
        {
          "output_type": "execute_result",
          "data": {
            "text/plain": [
              "<1x10109 sparse matrix of type '<class 'numpy.float64'>'\n",
              "\twith 468 stored elements in Compressed Sparse Row format>"
            ]
          },
          "metadata": {
            "tags": []
          },
          "execution_count": 18
        }
      ]
    },
    {
      "metadata": {
        "id": "DPypGhZDscK0",
        "colab_type": "text"
      },
      "cell_type": "markdown",
      "source": [
        "Мы можем сравнивать элементы с 0"
      ]
    },
    {
      "metadata": {
        "id": "w39tGlMvscK7",
        "colab_type": "code",
        "colab": {
          "base_uri": "https://localhost:8080/",
          "height": 52
        },
        "outputId": "6bc6d4fc-3f5f-4279-cf16-467b050fabb1"
      },
      "cell_type": "code",
      "source": [
        "user_1_rated = (user_1 != 0)\n",
        "user_1_rated"
      ],
      "execution_count": 19,
      "outputs": [
        {
          "output_type": "execute_result",
          "data": {
            "text/plain": [
              "<1x10109 sparse matrix of type '<class 'numpy.bool_'>'\n",
              "\twith 55 stored elements in Compressed Sparse Row format>"
            ]
          },
          "metadata": {
            "tags": []
          },
          "execution_count": 19
        }
      ]
    },
    {
      "metadata": {
        "id": "hARvBWuHuEFv",
        "colab_type": "code",
        "colab": {
          "base_uri": "https://localhost:8080/",
          "height": 52
        },
        "outputId": "3b8bdec7-b38c-4e9c-9c54-a786f734308f"
      },
      "cell_type": "code",
      "source": [
        "user_2_rated = (user_2 != 0)\n",
        "user_2_rated"
      ],
      "execution_count": 23,
      "outputs": [
        {
          "output_type": "execute_result",
          "data": {
            "text/plain": [
              "<1x10109 sparse matrix of type '<class 'numpy.bool_'>'\n",
              "\twith 468 stored elements in Compressed Sparse Row format>"
            ]
          },
          "metadata": {
            "tags": []
          },
          "execution_count": 23
        }
      ]
    },
    {
      "metadata": {
        "id": "MZimLftqscLA",
        "colab_type": "text"
      },
      "cell_type": "markdown",
      "source": [
        "Можем их \"индексировать\""
      ]
    },
    {
      "metadata": {
        "id": "jeImhUngscLB",
        "colab_type": "code",
        "colab": {
          "base_uri": "https://localhost:8080/",
          "height": 104
        },
        "outputId": "8c0b642a-6534-46e6-d7b2-d610e98c8ef9"
      },
      "cell_type": "code",
      "source": [
        "user_1[user_1_rated]"
      ],
      "execution_count": 20,
      "outputs": [
        {
          "output_type": "execute_result",
          "data": {
            "text/plain": [
              "matrix([[1. , 4.5, 4. , 2. , 4. , 4.5, 3.5, 5. , 3.5, 2. , 4. , 3. , 4.5,\n",
              "         0.5, 4.5, 4. , 3.5, 4.5, 4. , 2.5, 4. , 4. , 4. , 4.5, 2.5, 2. ,\n",
              "         1.5, 4. , 4. , 4.5, 3. , 3. , 4.5, 3.5, 4.5, 1.5, 3. , 3. , 3.5,\n",
              "         3.5, 3. , 2.5, 3.5, 4. , 0.5, 4. , 3.5, 4.5, 3.5, 4.5, 5. , 3.5,\n",
              "         3.5, 3.5, 4.5]])"
            ]
          },
          "metadata": {
            "tags": []
          },
          "execution_count": 20
        }
      ]
    },
    {
      "metadata": {
        "id": "T68yRvPGscLE",
        "colab_type": "text"
      },
      "cell_type": "markdown",
      "source": [
        "Можем считать количество ненулевых элементов"
      ]
    },
    {
      "metadata": {
        "id": "N_DWUibqscLF",
        "colab_type": "code",
        "colab": {
          "base_uri": "https://localhost:8080/",
          "height": 34
        },
        "outputId": "7297bbdd-cd6e-4786-e93f-e6a84e687697"
      },
      "cell_type": "code",
      "source": [
        "user_1.nnz"
      ],
      "execution_count": 21,
      "outputs": [
        {
          "output_type": "execute_result",
          "data": {
            "text/plain": [
              "55"
            ]
          },
          "metadata": {
            "tags": []
          },
          "execution_count": 21
        }
      ]
    },
    {
      "metadata": {
        "id": "xTMyTOfDscLL",
        "colab_type": "text"
      },
      "cell_type": "markdown",
      "source": [
        "Можем умножать 2 разреженных вектора поэлементно:"
      ]
    },
    {
      "metadata": {
        "id": "NXu6lUIhscLN",
        "colab_type": "code",
        "colab": {
          "base_uri": "https://localhost:8080/",
          "height": 166
        },
        "outputId": "ba6ad5f2-b9f5-40f6-aa1f-4d756b211c87"
      },
      "cell_type": "code",
      "source": [
        "(user_1_rated).multiply(user_2_rated)"
      ],
      "execution_count": 22,
      "outputs": [
        {
          "output_type": "error",
          "ename": "NameError",
          "evalue": "ignored",
          "traceback": [
            "\u001b[0;31m---------------------------------------------------------------------------\u001b[0m",
            "\u001b[0;31mNameError\u001b[0m                                 Traceback (most recent call last)",
            "\u001b[0;32m<ipython-input-22-897599b57c50>\u001b[0m in \u001b[0;36m<module>\u001b[0;34m()\u001b[0m\n\u001b[0;32m----> 1\u001b[0;31m \u001b[0;34m(\u001b[0m\u001b[0muser_1_rated\u001b[0m\u001b[0;34m)\u001b[0m\u001b[0;34m.\u001b[0m\u001b[0mmultiply\u001b[0m\u001b[0;34m(\u001b[0m\u001b[0muser_2_rated\u001b[0m\u001b[0;34m)\u001b[0m\u001b[0;34m\u001b[0m\u001b[0;34m\u001b[0m\u001b[0m\n\u001b[0m",
            "\u001b[0;31mNameError\u001b[0m: name 'user_2_rated' is not defined"
          ]
        }
      ]
    },
    {
      "metadata": {
        "id": "cGXoPDOuscLR",
        "colab_type": "text"
      },
      "cell_type": "markdown",
      "source": [
        "и скалярно"
      ]
    },
    {
      "metadata": {
        "id": "9P27FZ-wscLS",
        "colab_type": "code",
        "colab": {}
      },
      "cell_type": "code",
      "source": [
        "user_1.dot(user_2.T)[0, 0]"
      ],
      "execution_count": 0,
      "outputs": []
    },
    {
      "metadata": {
        "id": "nERENOP3scLW",
        "colab_type": "text"
      },
      "cell_type": "markdown",
      "source": [
        "И превращать разреженную матрицу (вектор) в плотную"
      ]
    },
    {
      "metadata": {
        "id": "7UBZJxOhscLX",
        "colab_type": "code",
        "colab": {}
      },
      "cell_type": "code",
      "source": [
        "user_1_dense = user_1.toarray()\n",
        "user_1_dense"
      ],
      "execution_count": 0,
      "outputs": []
    },
    {
      "metadata": {
        "id": "AVG101b9scLa",
        "colab_type": "text"
      },
      "cell_type": "markdown",
      "source": [
        "Этого ликбеза вам будет должно быть достаточно, чтобы реализовать функцию расчета похожести между парой пользователей $u$ и $v$:\n",
        "\n",
        "$$ s_{uv} = \\frac{\\sum\\limits_{i \\in I_u\\cap I_v} R_{ui} R_{vi}}{\\sqrt{{\\sum\\limits_{i \\in I_u\\cap I_v}R_{ui}^2}}\\sqrt{{\\sum\\limits_{i \\in I_u\\cap I_v}R_{vi}^2}}}$$\n",
        "\n",
        "Давайте будем считать, что если между пользователями нет пересечения по просмотренным фильмам, то их косинусная мера равна 0.0\n"
      ]
    },
    {
      "metadata": {
        "id": "totygxo8scLb",
        "colab_type": "code",
        "colab": {}
      },
      "cell_type": "code",
      "source": [
        "def cosine_similarity_pair_users(u, v):\n",
        "    ## Your code here"
      ],
      "execution_count": 0,
      "outputs": []
    },
    {
      "metadata": {
        "id": "BSebNXR7scLe",
        "colab_type": "text"
      },
      "cell_type": "markdown",
      "source": [
        "### _Решение_"
      ]
    },
    {
      "metadata": {
        "id": "qMVrw8MVscLf",
        "colab_type": "code",
        "colab": {}
      },
      "cell_type": "code",
      "source": [
        "def cosine_similarity_pair_users(u, v):\n",
        "    u_rated = (u != 0)\n",
        "    v_rated = (v != 0)\n",
        "    common_items = (u_rated).multiply(v_rated)\n",
        "    if common_items.nnz:\n",
        "        scalar = u.dot(v.T)[0, 0]\n",
        "        norm = np.linalg.norm(u[common_items]) * np.linalg.norm(v[common_items])\n",
        "        return scalar / norm\n",
        "    else:\n",
        "        return 0.0"
      ],
      "execution_count": 0,
      "outputs": []
    },
    {
      "metadata": {
        "id": "3aVbdHaOscLn",
        "colab_type": "text"
      },
      "cell_type": "markdown",
      "source": [
        "## Функция прогнозирования рейтинга"
      ]
    },
    {
      "metadata": {
        "id": "6RDPM4WLscLr",
        "colab_type": "text"
      },
      "cell_type": "markdown",
      "source": [
        "Реализуйте функцию, которая принимает на входе\n",
        "* Индекс пользователя\n",
        "* Матрицу рейтингов\n",
        "* Количество ближайших соседей (несмотря на то, что каждый пользователь - ближайший сосед самому себе, в расчетах он использоваться не должен)\n",
        "\n",
        "и возвращает вектор с предсказанными рейтингами по всем товарам для этого пользователя\n",
        "\n",
        "Для того, чтобы считать прогноз по рейтингу мы воспользуемся упрощенной формулой из лекции:\n",
        "\n",
        "$$ \\hat{R}_{ui} = \\frac{\\sum_{v \\in N(u)} s_{uv}R_{vi}}{\\sum_{v \\in N(u)} \\left| s_{uv}\\right|} $$\n"
      ]
    },
    {
      "metadata": {
        "id": "hp61jI06scLs",
        "colab_type": "text"
      },
      "cell_type": "markdown",
      "source": [
        "### _Решение_"
      ]
    },
    {
      "metadata": {
        "id": "PSZGZRxWscLu",
        "colab_type": "code",
        "colab": {}
      },
      "cell_type": "code",
      "source": [
        "u = 2"
      ],
      "execution_count": 0,
      "outputs": []
    },
    {
      "metadata": {
        "id": "9YfQyJCOscL0",
        "colab_type": "code",
        "colab": {}
      },
      "cell_type": "code",
      "source": [
        "def rate_items_user(u, R, n_neigbours=30):\n",
        "    predictions = csr_matrix((1, R.shape[1]))\n",
        "    cumsim = 0.0\n",
        "    num_predictions = csr_matrix((1, R.shape[1]))\n",
        "    s = np.array([cosine_similarity_pair_users(R[u], R[v]) for v in range(R.shape[0])])\n",
        "    similar_users = np.argsort(s)[::-1]\n",
        "    for v in similar_users[:n_neigbours]:\n",
        "        if v == u:\n",
        "            continue\n",
        "        user_sim = s[v]\n",
        "        predictions += user_sim * R[v]\n",
        "        cumsim += np.abs(user_sim)\n",
        "    predictions /= cumsim\n",
        "    return predictions"
      ],
      "execution_count": 0,
      "outputs": []
    },
    {
      "metadata": {
        "id": "d1y-0aLTscL6",
        "colab_type": "text"
      },
      "cell_type": "markdown",
      "source": [
        "В качестве ответа к этому заданию верните 5 идентификаторов фильмов с наивысшим предсказанным рейтингом для пользователя с id 19 (20-я строчка в матрице рейтингов).\n",
        "* Для усреднения используйте 30 ближайших соседей\n",
        "* Среди этих 5-и фильмов не должно быть ранее просмотренных фильмов"
      ]
    },
    {
      "metadata": {
        "id": "sVuRQ5gZscL-",
        "colab_type": "text"
      },
      "cell_type": "markdown",
      "source": [
        "### _Решение_"
      ]
    },
    {
      "metadata": {
        "id": "WgF--KYJscL_",
        "colab_type": "code",
        "colab": {}
      },
      "cell_type": "code",
      "source": [
        "R_hat = rate_items_user(20, R, n_neigbours=30)"
      ],
      "execution_count": 0,
      "outputs": []
    },
    {
      "metadata": {
        "id": "8dB0nqs-scMC",
        "colab_type": "code",
        "colab": {}
      },
      "cell_type": "code",
      "source": [
        "rated_items = (R[20] == 0)\n",
        "unseen_ratings = R_hat.multiply(rated_items)\n",
        "unseen_ratings = unseen_ratings.toarray()[0]"
      ],
      "execution_count": 0,
      "outputs": []
    },
    {
      "metadata": {
        "id": "3FjK68-EscME",
        "colab_type": "code",
        "colab": {}
      },
      "cell_type": "code",
      "source": [
        "idx = unseen_ratings.argsort()[::-1]"
      ],
      "execution_count": 0,
      "outputs": []
    },
    {
      "metadata": {
        "id": "fwiE3vdIscMH",
        "colab_type": "code",
        "colab": {}
      },
      "cell_type": "code",
      "source": [
        "unseen_ratings[idx]"
      ],
      "execution_count": 0,
      "outputs": []
    },
    {
      "metadata": {
        "id": "Tp9c1pYoscMK",
        "colab_type": "code",
        "colab": {}
      },
      "cell_type": "code",
      "source": [
        "top5 = idx[:5]"
      ],
      "execution_count": 0,
      "outputs": []
    },
    {
      "metadata": {
        "id": "pZxA3Z5iscMO",
        "colab_type": "code",
        "colab": {}
      },
      "cell_type": "code",
      "source": [
        "assert ', '.join(str(i) for i in top5) == '306, 5573, 1080, 6720, 2711'"
      ],
      "execution_count": 0,
      "outputs": []
    },
    {
      "metadata": {
        "id": "w6eRp7fcscMR",
        "colab_type": "text"
      },
      "cell_type": "markdown",
      "source": [
        "## Генерация ответа"
      ]
    },
    {
      "metadata": {
        "id": "0gWd4k3RscMT",
        "colab_type": "code",
        "colab": {}
      },
      "cell_type": "code",
      "source": [
        "', '.join(str(i) for i in top5)"
      ],
      "execution_count": 0,
      "outputs": []
    }
  ]
}