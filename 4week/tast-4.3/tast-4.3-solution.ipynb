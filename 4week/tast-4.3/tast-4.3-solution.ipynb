{
  "nbformat": 4,
  "nbformat_minor": 0,
  "metadata": {
    "colab": {
      "name": "tast-4.3-solution.ipynb",
      "version": "0.3.2",
      "provenance": [],
      "toc_visible": true,
      "include_colab_link": true
    },
    "kernelspec": {
      "display_name": "Python 3",
      "language": "python",
      "name": "python3"
    }
  },
  "cells": [
    {
      "cell_type": "markdown",
      "metadata": {
        "id": "view-in-github",
        "colab_type": "text"
      },
      "source": [
        "<a href=\"https://colab.research.google.com/github/pythonfords/python_for_ds/blob/master/4week/tast-4.3/tast-4.3-solution.ipynb\" target=\"_parent\"><img src=\"https://colab.research.google.com/assets/colab-badge.svg\" alt=\"Open In Colab\"/></a>"
      ]
    },
    {
      "metadata": {
        "id": "7RgZBOzsscJZ",
        "colab_type": "text"
      },
      "cell_type": "markdown",
      "source": [
        "# Введение в рекомендательные системы\n",
        "\n",
        "## Коллаборативная фильтрация"
      ]
    },
    {
      "metadata": {
        "id": "4wQcGaagscJd",
        "colab_type": "text"
      },
      "cell_type": "markdown",
      "source": [
        "В этом задании мы закончим имплементацию коллаборативной фильтрации.\n",
        "\n",
        "Для этого - выполним действия, необходимые для создания матрицы рейтингов"
      ]
    },
    {
      "metadata": {
        "id": "q89G0pNWscJg",
        "colab_type": "code",
        "colab": {}
      },
      "cell_type": "code",
      "source": [
        "import os\n",
        "import numpy as np\n",
        "import pandas as pd\n",
        "import matplotlib.pyplot as plt\n",
        "from tqdm import tqdm_notebook\n",
        "\n",
        "%matplotlib inline\n",
        "\n",
        "plt.style.use('ggplot')\n",
        "plt.rcParams['figure.figsize'] = (12, 6)"
      ],
      "execution_count": 0,
      "outputs": []
    },
    {
      "metadata": {
        "id": "HZnQoNz6sfFo",
        "colab_type": "code",
        "colab": {}
      },
      "cell_type": "code",
      "source": [
        ""
      ],
      "execution_count": 0,
      "outputs": []
    },
    {
      "metadata": {
        "id": "iGDJN8UYsij9",
        "colab_type": "code",
        "colab": {}
      },
      "cell_type": "code",
      "source": [
        "from google.colab import drive\n",
        "drive.mount('/gdrive')"
      ],
      "execution_count": 0,
      "outputs": []
    },
    {
      "metadata": {
        "id": "RRVKtOBTscJm",
        "colab_type": "code",
        "colab": {}
      },
      "cell_type": "code",
      "source": [
        "filepath = './data/user_ratedmovies.dat'\n",
        "df_rates = pd.read_csv(filepath, sep='\\t')"
      ],
      "execution_count": 0,
      "outputs": []
    },
    {
      "metadata": {
        "id": "1OUTMnJuscJr",
        "colab_type": "code",
        "colab": {}
      },
      "cell_type": "code",
      "source": [
        "filepath = './data/movies.dat'\n",
        "df_movies = pd.read_csv(filepath, sep='\\t', encoding='iso-8859-1')"
      ],
      "execution_count": 0,
      "outputs": []
    },
    {
      "metadata": {
        "id": "i120dnlFscJv",
        "colab_type": "text"
      },
      "cell_type": "markdown",
      "source": [
        "# Перекодируем ID фильмов и пользователей"
      ]
    },
    {
      "metadata": {
        "id": "orNmz6bfscJx",
        "colab_type": "code",
        "colab": {}
      },
      "cell_type": "code",
      "source": [
        "from sklearn.preprocessing import LabelEncoder"
      ],
      "execution_count": 0,
      "outputs": []
    },
    {
      "metadata": {
        "id": "cef3J5p3scJ5",
        "colab_type": "code",
        "colab": {}
      },
      "cell_type": "code",
      "source": [
        "enc_user = LabelEncoder()\n",
        "enc_mov = LabelEncoder()"
      ],
      "execution_count": 0,
      "outputs": []
    },
    {
      "metadata": {
        "id": "GaW_Xr3NscJ9",
        "colab_type": "code",
        "colab": {}
      },
      "cell_type": "code",
      "source": [
        "enc_user = enc_user.fit(df_rates.userID.values)\n",
        "enc_mov = enc_mov.fit(df_rates.movieID.values)"
      ],
      "execution_count": 0,
      "outputs": []
    },
    {
      "metadata": {
        "id": "qSimxR6BscKC",
        "colab_type": "code",
        "colab": {}
      },
      "cell_type": "code",
      "source": [
        "idx = df_movies.loc[:, 'id'].isin(df_rates.movieID)\n",
        "df_movies = df_movies.loc[idx]"
      ],
      "execution_count": 0,
      "outputs": []
    },
    {
      "metadata": {
        "id": "jBV9t1PXscKI",
        "colab_type": "code",
        "colab": {}
      },
      "cell_type": "code",
      "source": [
        "df_rates.loc[:, 'userID'] = enc_user.transform(df_rates.loc[:, 'userID'].values)\n",
        "df_rates.loc[:, 'movieID'] = enc_mov.transform(df_rates.loc[:, 'movieID'].values)\n",
        "df_movies.loc[:, 'id'] = enc_mov.transform(df_movies.loc[:, 'id'].values)"
      ],
      "execution_count": 0,
      "outputs": []
    },
    {
      "metadata": {
        "id": "g2AyG0yIscKR",
        "colab_type": "code",
        "colab": {}
      },
      "cell_type": "code",
      "source": [
        "df_rates.head()"
      ],
      "execution_count": 0,
      "outputs": []
    },
    {
      "metadata": {
        "id": "KbDZmapDscKW",
        "colab_type": "text"
      },
      "cell_type": "markdown",
      "source": [
        "## Матрица рейтингов"
      ]
    },
    {
      "metadata": {
        "id": "SSYrulUescKY",
        "colab_type": "code",
        "colab": {}
      },
      "cell_type": "code",
      "source": [
        "from scipy.sparse import coo_matrix, csr_matrix"
      ],
      "execution_count": 0,
      "outputs": []
    },
    {
      "metadata": {
        "id": "UWf0OK8CscKb",
        "colab_type": "code",
        "colab": {}
      },
      "cell_type": "code",
      "source": [
        "R = coo_matrix((df_rates.rating.values, (df_rates.userID.values, df_rates.movieID.values)))"
      ],
      "execution_count": 0,
      "outputs": []
    },
    {
      "metadata": {
        "id": "uFc8oc-PscKe",
        "colab_type": "code",
        "colab": {}
      },
      "cell_type": "code",
      "source": [
        "R"
      ],
      "execution_count": 0,
      "outputs": []
    },
    {
      "metadata": {
        "id": "lpqG8OvNscKj",
        "colab_type": "text"
      },
      "cell_type": "markdown",
      "source": [
        "## Похожесть между пользователями"
      ]
    },
    {
      "metadata": {
        "id": "EWHXneLiscKk",
        "colab_type": "text"
      },
      "cell_type": "markdown",
      "source": [
        "В дальнейшем нам будет удобнее работать с форматом `Compressed Sparse Row matrix`. К счастью переформатировать полученную нами матрицу можно одной командой:"
      ]
    },
    {
      "metadata": {
        "scrolled": true,
        "id": "17-X-Pc6scKl",
        "colab_type": "code",
        "colab": {}
      },
      "cell_type": "code",
      "source": [
        "R = R.tocsr()"
      ],
      "execution_count": 0,
      "outputs": []
    },
    {
      "metadata": {
        "id": "-owPhvSOscKp",
        "colab_type": "text"
      },
      "cell_type": "markdown",
      "source": [
        "Теперь, например, рейтинги для первого пользователя можно достать так:"
      ]
    },
    {
      "metadata": {
        "id": "ktY0p7CmscKq",
        "colab_type": "code",
        "colab": {}
      },
      "cell_type": "code",
      "source": [
        "user_1 = R[0]\n",
        "user_1"
      ],
      "execution_count": 0,
      "outputs": []
    },
    {
      "metadata": {
        "id": "2uidmzqiscKv",
        "colab_type": "text"
      },
      "cell_type": "markdown",
      "source": [
        "Так как вы возможно не работали с разреженным форматом матриц, устроим небольшой ликбез.\n",
        "\n",
        "Первым делом, надо понадобится вектор для другого пользователя:"
      ]
    },
    {
      "metadata": {
        "id": "e9kgh1d5scKw",
        "colab_type": "code",
        "colab": {}
      },
      "cell_type": "code",
      "source": [
        "user_2 = R[1]\n",
        "user_2"
      ],
      "execution_count": 0,
      "outputs": []
    },
    {
      "metadata": {
        "id": "DPypGhZDscK0",
        "colab_type": "text"
      },
      "cell_type": "markdown",
      "source": [
        "Мы можем сравнивать элементы с 0"
      ]
    },
    {
      "metadata": {
        "id": "w39tGlMvscK7",
        "colab_type": "code",
        "colab": {}
      },
      "cell_type": "code",
      "source": [
        "user_1_rated = (user_1 != 0)\n",
        "user_1_rated"
      ],
      "execution_count": 0,
      "outputs": []
    },
    {
      "metadata": {
        "id": "MZimLftqscLA",
        "colab_type": "text"
      },
      "cell_type": "markdown",
      "source": [
        "Можем их \"индексировать\""
      ]
    },
    {
      "metadata": {
        "id": "jeImhUngscLB",
        "colab_type": "code",
        "colab": {}
      },
      "cell_type": "code",
      "source": [
        "user_1[user_1_rated]"
      ],
      "execution_count": 0,
      "outputs": []
    },
    {
      "metadata": {
        "id": "T68yRvPGscLE",
        "colab_type": "text"
      },
      "cell_type": "markdown",
      "source": [
        "Можем считать количество ненулевых элементов"
      ]
    },
    {
      "metadata": {
        "id": "N_DWUibqscLF",
        "colab_type": "code",
        "colab": {}
      },
      "cell_type": "code",
      "source": [
        "user_1.nnz"
      ],
      "execution_count": 0,
      "outputs": []
    },
    {
      "metadata": {
        "id": "xTMyTOfDscLL",
        "colab_type": "text"
      },
      "cell_type": "markdown",
      "source": [
        "Можем умножать 2 разреженных вектора поэлементно:"
      ]
    },
    {
      "metadata": {
        "id": "NXu6lUIhscLN",
        "colab_type": "code",
        "colab": {}
      },
      "cell_type": "code",
      "source": [
        "(user_1_rated).multiply(user_2_rated)"
      ],
      "execution_count": 0,
      "outputs": []
    },
    {
      "metadata": {
        "id": "cGXoPDOuscLR",
        "colab_type": "text"
      },
      "cell_type": "markdown",
      "source": [
        "и скалярно"
      ]
    },
    {
      "metadata": {
        "id": "9P27FZ-wscLS",
        "colab_type": "code",
        "colab": {}
      },
      "cell_type": "code",
      "source": [
        "user_1.dot(user_2.T)[0, 0]"
      ],
      "execution_count": 0,
      "outputs": []
    },
    {
      "metadata": {
        "id": "nERENOP3scLW",
        "colab_type": "text"
      },
      "cell_type": "markdown",
      "source": [
        "И превращать разреженную матрицу (вектор) в плотную"
      ]
    },
    {
      "metadata": {
        "id": "7UBZJxOhscLX",
        "colab_type": "code",
        "colab": {}
      },
      "cell_type": "code",
      "source": [
        "user_1_dense = user_1.toarray()\n",
        "user_1_dense"
      ],
      "execution_count": 0,
      "outputs": []
    },
    {
      "metadata": {
        "id": "AVG101b9scLa",
        "colab_type": "text"
      },
      "cell_type": "markdown",
      "source": [
        "Этого ликбеза вам будет должно быть достаточно, чтобы реализовать функцию расчета похожести между парой пользователей $u$ и $v$:\n",
        "\n",
        "$$ s_{uv} = \\frac{\\sum\\limits_{i \\in I_u\\cap I_v} R_{ui} R_{vi}}{\\sqrt{{\\sum\\limits_{i \\in I_u\\cap I_v}R_{ui}^2}}\\sqrt{{\\sum\\limits_{i \\in I_u\\cap I_v}R_{vi}^2}}}$$\n",
        "\n",
        "Давайте будем считать, что если между пользователями нет пересечения по просмотренным фильмам, то их косинусная мера равна 0.0\n"
      ]
    },
    {
      "metadata": {
        "id": "totygxo8scLb",
        "colab_type": "code",
        "colab": {}
      },
      "cell_type": "code",
      "source": [
        "def cosine_similarity_pair_users(u, v):\n",
        "    ## Your code here"
      ],
      "execution_count": 0,
      "outputs": []
    },
    {
      "metadata": {
        "id": "BSebNXR7scLe",
        "colab_type": "text"
      },
      "cell_type": "markdown",
      "source": [
        "### _Решение_"
      ]
    },
    {
      "metadata": {
        "id": "qMVrw8MVscLf",
        "colab_type": "code",
        "colab": {}
      },
      "cell_type": "code",
      "source": [
        "def cosine_similarity_pair_users(u, v):\n",
        "    u_rated = (u != 0)\n",
        "    v_rated = (v != 0)\n",
        "    common_items = (u_rated).multiply(v_rated)\n",
        "    if common_items.nnz:\n",
        "        scalar = u.dot(v.T)[0, 0]\n",
        "        norm = np.linalg.norm(u[common_items]) * np.linalg.norm(v[common_items])\n",
        "        return scalar / norm\n",
        "    else:\n",
        "        return 0.0"
      ],
      "execution_count": 0,
      "outputs": []
    },
    {
      "metadata": {
        "id": "3aVbdHaOscLn",
        "colab_type": "text"
      },
      "cell_type": "markdown",
      "source": [
        "## Функция прогнозирования рейтинга"
      ]
    },
    {
      "metadata": {
        "id": "6RDPM4WLscLr",
        "colab_type": "text"
      },
      "cell_type": "markdown",
      "source": [
        "Реализуйте функцию, которая принимает на входе\n",
        "* Индекс пользователя\n",
        "* Матрицу рейтингов\n",
        "* Количество ближайших соседей (несмотря на то, что каждый пользователь - ближайший сосед самому себе, в расчетах он использоваться не должен)\n",
        "\n",
        "и возвращает вектор с предсказанными рейтингами по всем товарам для этого пользователя\n",
        "\n",
        "Для того, чтобы считать прогноз по рейтингу мы воспользуемся упрощенной формулой из лекции:\n",
        "\n",
        "$$ \\hat{R}_{ui} = \\frac{\\sum_{v \\in N(u)} s_{uv}R_{vi}}{\\sum_{v \\in N(u)} \\left| s_{uv}\\right|} $$\n"
      ]
    },
    {
      "metadata": {
        "id": "hp61jI06scLs",
        "colab_type": "text"
      },
      "cell_type": "markdown",
      "source": [
        "### _Решение_"
      ]
    },
    {
      "metadata": {
        "id": "PSZGZRxWscLu",
        "colab_type": "code",
        "colab": {}
      },
      "cell_type": "code",
      "source": [
        "u = 2"
      ],
      "execution_count": 0,
      "outputs": []
    },
    {
      "metadata": {
        "id": "9YfQyJCOscL0",
        "colab_type": "code",
        "colab": {}
      },
      "cell_type": "code",
      "source": [
        "def rate_items_user(u, R, n_neigbours=30):\n",
        "    predictions = csr_matrix((1, R.shape[1]))\n",
        "    cumsim = 0.0\n",
        "    num_predictions = csr_matrix((1, R.shape[1]))\n",
        "    s = np.array([cosine_similarity_pair_users(R[u], R[v]) for v in range(R.shape[0])])\n",
        "    similar_users = np.argsort(s)[::-1]\n",
        "    for v in similar_users[:n_neigbours]:\n",
        "        if v == u:\n",
        "            continue\n",
        "        user_sim = s[v]\n",
        "        predictions += user_sim * R[v]\n",
        "        cumsim += np.abs(user_sim)\n",
        "    predictions /= cumsim\n",
        "    return predictions"
      ],
      "execution_count": 0,
      "outputs": []
    },
    {
      "metadata": {
        "id": "d1y-0aLTscL6",
        "colab_type": "text"
      },
      "cell_type": "markdown",
      "source": [
        "В качестве ответа к этому заданию верните 5 идентификаторов фильмов с наивысшим предсказанным рейтингом для пользователя с id 19 (20-я строчка в матрице рейтингов).\n",
        "* Для усреднения используйте 30 ближайших соседей\n",
        "* Среди этих 5-и фильмов не должно быть ранее просмотренных фильмов"
      ]
    },
    {
      "metadata": {
        "id": "sVuRQ5gZscL-",
        "colab_type": "text"
      },
      "cell_type": "markdown",
      "source": [
        "### _Решение_"
      ]
    },
    {
      "metadata": {
        "id": "WgF--KYJscL_",
        "colab_type": "code",
        "colab": {}
      },
      "cell_type": "code",
      "source": [
        "R_hat = rate_items_user(20, R, n_neigbours=30)"
      ],
      "execution_count": 0,
      "outputs": []
    },
    {
      "metadata": {
        "id": "8dB0nqs-scMC",
        "colab_type": "code",
        "colab": {}
      },
      "cell_type": "code",
      "source": [
        "rated_items = (R[20] == 0)\n",
        "unseen_ratings = R_hat.multiply(rated_items)\n",
        "unseen_ratings = unseen_ratings.toarray()[0]"
      ],
      "execution_count": 0,
      "outputs": []
    },
    {
      "metadata": {
        "id": "3FjK68-EscME",
        "colab_type": "code",
        "colab": {}
      },
      "cell_type": "code",
      "source": [
        "idx = unseen_ratings.argsort()[::-1]"
      ],
      "execution_count": 0,
      "outputs": []
    },
    {
      "metadata": {
        "id": "fwiE3vdIscMH",
        "colab_type": "code",
        "colab": {}
      },
      "cell_type": "code",
      "source": [
        "unseen_ratings[idx]"
      ],
      "execution_count": 0,
      "outputs": []
    },
    {
      "metadata": {
        "id": "Tp9c1pYoscMK",
        "colab_type": "code",
        "colab": {}
      },
      "cell_type": "code",
      "source": [
        "top5 = idx[:5]"
      ],
      "execution_count": 0,
      "outputs": []
    },
    {
      "metadata": {
        "id": "pZxA3Z5iscMO",
        "colab_type": "code",
        "colab": {}
      },
      "cell_type": "code",
      "source": [
        "assert ', '.join(str(i) for i in top5) == '306, 5573, 1080, 6720, 2711'"
      ],
      "execution_count": 0,
      "outputs": []
    },
    {
      "metadata": {
        "id": "w6eRp7fcscMR",
        "colab_type": "text"
      },
      "cell_type": "markdown",
      "source": [
        "## Генерация ответа"
      ]
    },
    {
      "metadata": {
        "id": "0gWd4k3RscMT",
        "colab_type": "code",
        "colab": {}
      },
      "cell_type": "code",
      "source": [
        "', '.join(str(i) for i in top5)"
      ],
      "execution_count": 0,
      "outputs": []
    }
  ]
}