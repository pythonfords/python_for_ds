{
  "nbformat": 4,
  "nbformat_minor": 0,
  "metadata": {
    "colab": {
      "name": "task-2.2-solution.ipynb",
      "version": "0.3.2",
      "provenance": []
    },
    "kernelspec": {
      "display_name": "Python 3",
      "language": "python",
      "name": "python3"
    }
  },
  "cells": [
    {
      "metadata": {
        "id": "qvUApY0OSE_9",
        "colab_type": "code",
        "colab": {}
      },
      "cell_type": "code",
      "source": [
        "from scipy import stats\n",
        "import matplotlib.pyplot as plt\n",
        "%matplotlib inline\n",
        "import pandas as pd\n",
        "import numpy as np"
      ],
      "execution_count": 0,
      "outputs": []
    },
    {
      "metadata": {
        "id": "91j2w8bcSFAI",
        "colab_type": "text"
      },
      "cell_type": "markdown",
      "source": [
        "### A/B тестирование"
      ]
    },
    {
      "metadata": {
        "id": "uBDwdWyISFAJ",
        "colab_type": "text"
      },
      "cell_type": "markdown",
      "source": [
        "В этом задании вы познакомитесь с A/B тестированием и примените полученные знания по статистике. \n",
        "\n",
        "Рассмотрим A/B тестирование на примере сайта. У сайта есть два дизайна - старый и новый, и мы хотим оценить, насколько новый дизайн лучше старого. Для этого пользователи сайта случайным образом разделяются на контрольную и тестовую группы. Контрольной группе показывается старая версия сайта, тестовой группе - измененная версия. Оценить изменение можно несколькими способами, самый простой - оценить конверсию. Конверсия - доля пользователей, совершивших заранее определенное действие(например подписка, нажатие на кнопку, заполнение формы)."
      ]
    },
    {
      "metadata": {
        "id": "FrNXmLKJSFAL",
        "colab_type": "text"
      },
      "cell_type": "markdown",
      "source": [
        "### Описание данных"
      ]
    },
    {
      "metadata": {
        "id": "ZaoJMdUuSFAM",
        "colab_type": "text"
      },
      "cell_type": "markdown",
      "source": [
        "Для начала нужно загрузить данные из файла `a_b_testing.csv` при помощи функции `read_csv` из библиотеки `pandas`. В данном случае 1 - была совершена подписка на сайт, 0 - подписки не было. A - контрольная группа, B - тестовая группа."
      ]
    },
    {
      "metadata": {
        "id": "8XUJIPKoSFAO",
        "colab_type": "text"
      },
      "cell_type": "markdown",
      "source": [
        "Далее нужно выполнить следующие пункты, описание выходного формата содержится внутри каждого задания."
      ]
    },
    {
      "metadata": {
        "id": "oYoVZSIzSFAP",
        "colab_type": "text"
      },
      "cell_type": "markdown",
      "source": [
        "### Доверительный интервал"
      ]
    },
    {
      "metadata": {
        "id": "hvPgrhKCSFAR",
        "colab_type": "text"
      },
      "cell_type": "markdown",
      "source": [
        "В видео про доверительный интервал мы рассмотрели, как можно аппроксимировать биномиальное распределение нормальным. В некоторых случаях параметры нормального распределения можно вывести математически и ниже мы рассмотрим как."
      ]
    },
    {
      "metadata": {
        "id": "No7c4oAOSFAS",
        "colab_type": "text"
      },
      "cell_type": "markdown",
      "source": [
        "Представим количество пользователей как случайную величину из биномиального распределения с параметрами  `n`  - количество пользователей и `p` - вероятность конверсии или как сумму  `n`  независимых бросаний монетки. Определим следующую случайную величину:\n",
        "\n",
        "$$Y = X_{1} + X_{2} + \\dots + X_{n} , \\, $$\n",
        "где случайная величина $X_{i}$ имеет распределение Бернулли. Для случайной величины $Y$ математическое ожидание и дисперсия равны:\n",
        "\n",
        "$$\\mu = np, \\, \\sigma^{2} = np\\cdot(1 - p)$$\n",
        "\n",
        "Далее применяя центральную предельную теорему(случайные величины $X_{i}$ распределены независимо и размер выборки большой), получаем что \n",
        "\n",
        "$$Y \\sim \\mathcal{N}(np \\, np\\cdot(1 - p))\\$$\n",
        "\n",
        "Мы перешли от биномиального распределения к нормальному. Следующий шаг - стандартизация нормального распределения:\n",
        "\n",
        "$$Z = \\frac{Y - np}{\\sqrt{np\\cdot(1-p)}} \\sim \\mathcal{N}(0, \\, 1) $$ \n",
        "\n",
        "Преобразуем выражение выше:\n",
        "\n",
        "$$Z = \\frac{Y - np}{\\sqrt{np\\cdot(1-p)}} = \\frac{\\frac{Y}{n} - p}{\\sqrt{\\frac{p(1-p)}{n}}} \\sim \\mathcal{N}(0, \\, 1) $$"
      ]
    },
    {
      "metadata": {
        "id": "p1N9s6AXSFAU",
        "colab_type": "text"
      },
      "cell_type": "markdown",
      "source": [
        "Так как среднее значение по выборке - это наблюдаемый процент конверсии, то доверительный интервал будет выглядеть следующим образом:"
      ]
    },
    {
      "metadata": {
        "id": "5nA_bpKPSFAV",
        "colab_type": "text"
      },
      "cell_type": "markdown",
      "source": [
        "$${P}\\left(p - z_{1-\\frac{\\alpha}{2}} \\sqrt{\\frac{p(1-p)}{n}} \\le \\mu \\le p + z_{1-\\frac{\\alpha}{2}}\\sqrt{\\frac{p(1-p)}{n}}\\right) = 1-\\alpha$$"
      ]
    },
    {
      "metadata": {
        "id": "2Q217QHRSFAX",
        "colab_type": "text"
      },
      "cell_type": "markdown",
      "source": [
        "### ЗАДАНИЕ"
      ]
    },
    {
      "metadata": {
        "id": "-GyXR1aNSFAY",
        "colab_type": "text"
      },
      "cell_type": "markdown",
      "source": [
        "Найдите доверительный интервал для среднего количества пользователей, совершивших подписку из контрольной выборки с уровнем значимости 95%."
      ]
    },
    {
      "metadata": {
        "id": "3s1o3AZ0SFAa",
        "colab_type": "text"
      },
      "cell_type": "markdown",
      "source": [
        "#### РЕШЕНИЕ"
      ]
    },
    {
      "metadata": {
        "id": "Wm_LWXonSFAb",
        "colab_type": "code",
        "colab": {}
      },
      "cell_type": "code",
      "source": [
        "data = pd.read_csv('a_b_testing.csv')\n",
        "#для контрольной выборки\n",
        "p = 0.41\n",
        "n = 2037\n",
        "\n",
        "z_value = stats.norm.ppf(q = 0.975)\n",
        "var = np.sqrt((p*(1-p))/n)\n",
        "interval = z_value * var\n",
        "conf_int = (p - interval, p + interval)  \n",
        "answer1 = ','.join([str(round(c,2)) for c in conf_int])"
      ],
      "execution_count": 0,
      "outputs": []
    },
    {
      "metadata": {
        "id": "2KsQ3ZSdSFAq",
        "colab_type": "text"
      },
      "cell_type": "markdown",
      "source": [
        "Запишите значения левой и правой границ через запятую, (c точностью до двух знаков после запятой), сохраняя приведенный порядок, в переменную `answer1`, которая будет являтся строкой."
      ]
    },
    {
      "metadata": {
        "id": "p1K-Yh2KSFAr",
        "colab_type": "text"
      },
      "cell_type": "markdown",
      "source": [
        "### Задача A/B тестирования"
      ]
    },
    {
      "metadata": {
        "id": "xa7ca2QJSFAt",
        "colab_type": "text"
      },
      "cell_type": "markdown",
      "source": [
        "Рассмотрим независимые выборки $X$ и $Y$ для которых есть $\\mu_x$ и $\\mu_y$, определяющие среднее значение распределения.\n",
        "\n",
        "Рассматривается следующая гипотеза:\n",
        "$$\n",
        "H_0: \\mu_x = \\mu_y\n",
        "$$\n",
        "против альтернативы:\n",
        "\n",
        "$$\n",
        "H_1: \\mu_x \\ne \\mu_y.\n",
        "$$"
      ]
    },
    {
      "metadata": {
        "id": "-3f5V4R7SFAu",
        "colab_type": "text"
      },
      "cell_type": "markdown",
      "source": [
        "Если гипотеза $H_0$ отвергается, то показатель действительно поменялся."
      ]
    },
    {
      "metadata": {
        "id": "kbotMAO6SFAx",
        "colab_type": "text"
      },
      "cell_type": "markdown",
      "source": [
        "Также можно тест можно записать и другим способом:\n",
        "$$\n",
        "H_0: \\mu_x \\le \\mu_y\n",
        "$$\n",
        "\n",
        "против альтернативы:\n",
        "\n",
        "$$\n",
        "H_1: \\mu_x > \\mu_y\n",
        "$$"
      ]
    },
    {
      "metadata": {
        "id": "YpGDX3S1SFAx",
        "colab_type": "text"
      },
      "cell_type": "markdown",
      "source": [
        "### Статистика Стьюдента ЗАДАНИЕ"
      ]
    },
    {
      "metadata": {
        "id": "FWACV8YhSFAz",
        "colab_type": "text"
      },
      "cell_type": "markdown",
      "source": [
        "Найдите значение статистики Стьюдента в предположении независимости выборок"
      ]
    },
    {
      "metadata": {
        "id": "CA-Baf00SFA0",
        "colab_type": "text"
      },
      "cell_type": "markdown",
      "source": [
        "$$\n",
        "T(X, Y) = \\frac{\\bar{X} - \\bar{Y}}{\\sqrt{\\frac{s_x^2}{n} + \\frac{s_y^2}{m}}}\n",
        "$$\n",
        "\n",
        "`n` - размер контрольной выборки, `m`  - размер тестовой выборки"
      ]
    },
    {
      "metadata": {
        "id": "yb-NE4bjSFA2",
        "colab_type": "text"
      },
      "cell_type": "markdown",
      "source": [
        "Ответ запишите в переменную `answer2` с точностью до 2 знака после запятой"
      ]
    },
    {
      "metadata": {
        "id": "TmIrPdpySFA3",
        "colab_type": "text"
      },
      "cell_type": "markdown",
      "source": [
        "### РЕШЕНИЕ"
      ]
    },
    {
      "metadata": {
        "id": "0QR63BTRSFA5",
        "colab_type": "code",
        "colab": {}
      },
      "cell_type": "code",
      "source": [
        "n = 2037\n",
        "m = 1963\n",
        "mu_x = 0.411880\n",
        "mu_y = 0.437086\n",
        "\n",
        "def t_stat_binomial(n, m, mu_x, mu_y):\n",
        "    return (mu_x - mu_y) / np.sqrt(mu_x * (1 - mu_x) / n + mu_y * (1 - mu_y) / m)\n",
        "\n",
        "answer2 = round(t_stat_binomial(n, m, mu_x, mu_y), 3)"
      ],
      "execution_count": 0,
      "outputs": []
    },
    {
      "metadata": {
        "id": "rSaTVyF3SFA-",
        "colab_type": "text"
      },
      "cell_type": "markdown",
      "source": [
        "### Статистика Стьюдента из библиотеки Scipy"
      ]
    },
    {
      "metadata": {
        "id": "J9QgNsm6SFA_",
        "colab_type": "text"
      },
      "cell_type": "markdown",
      "source": [
        "Найдите p-value для статистики Стьюдента, используя функцию `stats.ttest_ind`."
      ]
    },
    {
      "metadata": {
        "id": "whiQZRthSFBB",
        "colab_type": "text"
      },
      "cell_type": "markdown",
      "source": [
        "### РЕШЕНИЕ"
      ]
    },
    {
      "metadata": {
        "id": "YU0tHmOeSFBC",
        "colab_type": "code",
        "colab": {}
      },
      "cell_type": "code",
      "source": [
        "from scipy.stats import ttest_ind\n",
        "\n",
        "X = data[data['group'] == 'A']['converted']\n",
        "Y = data[data['group'] == 'B']['converted']\n",
        "\n",
        "answer3 = ttest_ind(X, Y, equal_var=False).pvalue"
      ],
      "execution_count": 0,
      "outputs": []
    },
    {
      "metadata": {
        "id": "Hms3BbhLSFBJ",
        "colab_type": "text"
      },
      "cell_type": "markdown",
      "source": [
        "Дополнительная проверка: значение статистики Стьюдента, посчитанная двумя способами, должны совпадать"
      ]
    },
    {
      "metadata": {
        "id": "WLjxveKjSFBJ",
        "colab_type": "text"
      },
      "cell_type": "markdown",
      "source": [
        "Ответ запишите в переменную `answer3` с точностью до 2 знака после запятой"
      ]
    },
    {
      "metadata": {
        "id": "YrdUnWBrSFBL",
        "colab_type": "text"
      },
      "cell_type": "markdown",
      "source": [
        "### Ответы"
      ]
    },
    {
      "metadata": {
        "scrolled": true,
        "id": "2FyOK0miSFBN",
        "colab_type": "code",
        "outputId": "09820ee4-3a87-4eb0-9972-7117e3347c64",
        "colab": {
          "base_uri": "https://localhost:8080/",
          "height": 67
        }
      },
      "cell_type": "code",
      "source": [
        "output = \"\"\"Confidence interval:{0:.2f}\n",
        "T score custom {1:.2f}\n",
        "p value {2:.2f}\"\"\"\n",
        "print(output.format(answer1, answer2, answer3))"
      ],
      "execution_count": 0,
      "outputs": [
        {
          "output_type": "stream",
          "text": [
            "Confidence interval:0.39,0.43\n",
            "T score custom -1.61\n",
            "p value 0.11\n"
          ],
          "name": "stdout"
        }
      ]
    }
  ]
}