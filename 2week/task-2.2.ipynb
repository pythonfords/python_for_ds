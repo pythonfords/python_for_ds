{
  "nbformat": 4,
  "nbformat_minor": 0,
  "metadata": {
    "colab": {
      "name": "task-2.2.ipynb",
      "version": "0.3.2",
      "provenance": [],
      "include_colab_link": true
    },
    "kernelspec": {
      "display_name": "Python 3",
      "language": "python",
      "name": "python3"
    }
  },
  "cells": [
    {
      "cell_type": "markdown",
      "metadata": {
        "id": "view-in-github",
        "colab_type": "text"
      },
      "source": [
        "<a href=\"https://colab.research.google.com/github/pythonfords/python_for_ds/blob/master/2week/task-2.2.ipynb\" target=\"_parent\"><img src=\"https://colab.research.google.com/assets/colab-badge.svg\" alt=\"Open In Colab\"/></a>"
      ]
    },
    {
      "metadata": {
        "id": "h94THdy2Msw1",
        "colab_type": "code",
        "colab": {}
      },
      "cell_type": "code",
      "source": [
        "from scipy import stats\n",
        "import matplotlib.pyplot as plt\n",
        "%matplotlib inline\n",
        "import pandas as pd\n",
        "import numpy as np"
      ],
      "execution_count": 0,
      "outputs": []
    },
    {
      "metadata": {
        "id": "_oI_jTn0Msw_",
        "colab_type": "text"
      },
      "cell_type": "markdown",
      "source": [
        "### A/B тестирование"
      ]
    },
    {
      "metadata": {
        "id": "4_Ff2oUIMsxB",
        "colab_type": "text"
      },
      "cell_type": "markdown",
      "source": [
        "В этом задании вы познакомитесь с A/B тестированием и примените полученные знания по статистике. \n",
        "\n",
        "Рассмотрим A/B тестирование на примере сайта. У сайта есть два дизайна - старый и новый, и мы хотим оценить, насколько новый дизайн лучше старого. Для этого пользователи сайта случайным образом разделяются на контрольную и тестовую группы. Контрольной группе показывается старая версия сайта, тестовой группе - измененная версия. Оценить изменение можно несколькими способами, самый простой - оценить конверсию. Конверсия - доля пользователей, совершивших заранее определенное действие(например подписка, нажатие на кнопку, заполнение формы)."
      ]
    },
    {
      "metadata": {
        "id": "pssIWbaTMsxD",
        "colab_type": "text"
      },
      "cell_type": "markdown",
      "source": [
        "### Описание данных"
      ]
    },
    {
      "metadata": {
        "id": "NovtY42ZMsxG",
        "colab_type": "text"
      },
      "cell_type": "markdown",
      "source": [
        "Для начала нужно загрузить данные из файла `a_b_testing.csv` при помощи функции `read_csv` из библиотеки `pandas`. В данном случае 1 - была совершена подписка на сайт, 0 - подписки не было. A - контрольная группа, B - тестовая группа."
      ]
    },
    {
      "metadata": {
        "id": "cIvTFSDOMsxM",
        "colab_type": "text"
      },
      "cell_type": "markdown",
      "source": [
        "Далее нужно выполнить следующие пункты, описание выходного формата содержится внутри каждого задания."
      ]
    },
    {
      "metadata": {
        "id": "oYDPhY_1MsxO",
        "colab_type": "text"
      },
      "cell_type": "markdown",
      "source": [
        "### Доверительный интервал"
      ]
    },
    {
      "metadata": {
        "id": "N_YLRo2jMsxQ",
        "colab_type": "text"
      },
      "cell_type": "markdown",
      "source": [
        "В видео про доверительный интервал мы рассмотрели, как можно аппроксимировать биномиальное распределение нормальным. В некоторых случаях параметры нормального распределения можно вывести математически и ниже мы рассмотрим как."
      ]
    },
    {
      "metadata": {
        "id": "wfDrkbwpMsxS",
        "colab_type": "text"
      },
      "cell_type": "markdown",
      "source": [
        "Представим количество пользователей как случайную величину из биномиального распределения с параметрами  `n`  - количество пользователей и `p` - вероятность конверсии или как сумму  `n`  независимых бросаний монетки. Определим следующую случайную величину:\n",
        "\n",
        "$$Y = X_{1} + X_{2} + \\dots + X_{n} , \\, $$\n",
        "где случайная величина $X_{i}$ имеет распределение Бернулли. Для случайной величины $Y$ математическое ожидание и дисперсия равны:\n",
        "\n",
        "$$\\mu = np, \\, \\sigma^{2} = np\\cdot(1 - p)$$\n",
        "\n",
        "Далее применяя центральную предельную теорему(случайные величины $X_{i}$ распределены независимо и размер выборки большой), получаем что \n",
        "\n",
        "$$Y \\sim \\mathcal{N}(np \\, np\\cdot(1 - p))\\$$\n",
        "\n",
        "Мы перешли от биномиального распределения к нормальному. Следующий шаг - стандартизация нормального распределения:\n",
        "\n",
        "$$Z = \\frac{Y - np}{\\sqrt{np\\cdot(1-p)}} \\sim \\mathcal{N}(0, \\, 1) $$ \n",
        "\n",
        "Преобразуем выражение выше:\n",
        "\n",
        "$$Z = \\frac{Y - np}{\\sqrt{np\\cdot(1-p)}} = \\frac{\\frac{Y}{n} - p}{\\sqrt{\\frac{p(1-p)}{n}}} \\sim \\mathcal{N}(0, \\, 1) $$"
      ]
    },
    {
      "metadata": {
        "id": "qBHPQGu2MsxT",
        "colab_type": "text"
      },
      "cell_type": "markdown",
      "source": [
        "Так как среднее значение по выборке - это наблюдаемый процент конверсии, то доверительный интервал будет выглядеть следующим образом:"
      ]
    },
    {
      "metadata": {
        "id": "QT4Jf24oMsxV",
        "colab_type": "text"
      },
      "cell_type": "markdown",
      "source": [
        "$${P}\\left(p - z_{1-\\frac{\\alpha}{2}} \\sqrt{\\frac{p(1-p)}{n}} \\le \\mu \\le p + z_{1-\\frac{\\alpha}{2}}\\sqrt{\\frac{p(1-p)}{n}}\\right) = 1-\\alpha$$"
      ]
    },
    {
      "metadata": {
        "id": "ru76WANEMsxW",
        "colab_type": "text"
      },
      "cell_type": "markdown",
      "source": [
        "### ЗАДАНИЕ"
      ]
    },
    {
      "metadata": {
        "id": "bBiG6tjEMsxX",
        "colab_type": "text"
      },
      "cell_type": "markdown",
      "source": [
        "Найдите доверительный интервал для среднего количества пользователей, совершивших подписку из контрольной выборки с уровнем значимости 95%."
      ]
    },
    {
      "metadata": {
        "id": "XMYPXvxKMsxa",
        "colab_type": "text"
      },
      "cell_type": "markdown",
      "source": [
        "#### РЕШЕНИЕ"
      ]
    },
    {
      "metadata": {
        "id": "TFqXLgWmMsxa",
        "colab_type": "code",
        "colab": {}
      },
      "cell_type": "code",
      "source": [
        ""
      ],
      "execution_count": 0,
      "outputs": []
    },
    {
      "metadata": {
        "id": "PsQjYdT8Msxg",
        "colab_type": "text"
      },
      "cell_type": "markdown",
      "source": [
        "Запишите значения левой и правой границ через запятую, сохраняя приведенный порядок, в переменную `answer1`, которая будет являтся строкой. "
      ]
    },
    {
      "metadata": {
        "id": "TPhYDzA1Msxi",
        "colab_type": "text"
      },
      "cell_type": "markdown",
      "source": [
        "### Задача A/B тестирования"
      ]
    },
    {
      "metadata": {
        "id": "8HWqTtozMsxj",
        "colab_type": "text"
      },
      "cell_type": "markdown",
      "source": [
        "Рассмотрим независимые выборки $X$ и $Y$ для которых есть $\\mu_x$ и $\\mu_y$, определяющие среднее значение распределения.\n",
        "\n",
        "Рассматривается следующая гипотеза:\n",
        "$$\n",
        "H_0: \\mu_x = \\mu_y\n",
        "$$\n",
        "против альтернативы:\n",
        "\n",
        "$$\n",
        "H_1: \\mu_x \\ne \\mu_y.\n",
        "$$"
      ]
    },
    {
      "metadata": {
        "id": "J--KfhZJMsxk",
        "colab_type": "text"
      },
      "cell_type": "markdown",
      "source": [
        "Если гипотеза $H_0$ отвергается, то показатель действительно поменялся."
      ]
    },
    {
      "metadata": {
        "id": "USvsh-HZMsxp",
        "colab_type": "text"
      },
      "cell_type": "markdown",
      "source": [
        "Также можно тест можно записать и другим способом:\n",
        "$$\n",
        "H_0: \\mu_x \\le \\mu_y\n",
        "$$\n",
        "\n",
        "против альтернативы:\n",
        "\n",
        "$$\n",
        "H_1: \\mu_x > \\mu_y\n",
        "$$"
      ]
    },
    {
      "metadata": {
        "id": "aVvNNKrRMsxs",
        "colab_type": "text"
      },
      "cell_type": "markdown",
      "source": [
        "### Статистика Стьюдента ЗАДАНИЕ"
      ]
    },
    {
      "metadata": {
        "id": "qa5ZcraPMsxv",
        "colab_type": "text"
      },
      "cell_type": "markdown",
      "source": [
        "Найдите значение статистики Стьюдента в предположении независимости выборок"
      ]
    },
    {
      "metadata": {
        "id": "2Qy8yBcoMsxy",
        "colab_type": "text"
      },
      "cell_type": "markdown",
      "source": [
        "$$\n",
        "T(X, Y) = \\frac{\\bar{X} - \\bar{Y}}{\\sqrt{\\frac{s_x^2}{n} + \\frac{s_y^2}{m}}}\n",
        "$$\n",
        "\n",
        "`n` - размер контрольной выборки, `m`  - размер тестовой выборки"
      ]
    },
    {
      "metadata": {
        "id": "b6PNlslCMsxz",
        "colab_type": "text"
      },
      "cell_type": "markdown",
      "source": [
        "Ответ запишите в переменную `answer2` с точностью до 2 знака после запятой"
      ]
    },
    {
      "metadata": {
        "id": "xoqOlupIMsx1",
        "colab_type": "text"
      },
      "cell_type": "markdown",
      "source": [
        "### РЕШЕНИЕ"
      ]
    },
    {
      "metadata": {
        "id": "vVxckz2rMsx2",
        "colab_type": "code",
        "colab": {}
      },
      "cell_type": "code",
      "source": [
        ""
      ],
      "execution_count": 0,
      "outputs": []
    },
    {
      "metadata": {
        "id": "mTVY6YbZMsx6",
        "colab_type": "text"
      },
      "cell_type": "markdown",
      "source": [
        "### Статистика Стьюдента из библиотеки Scipy"
      ]
    },
    {
      "metadata": {
        "id": "qRPYM4J5Msx7",
        "colab_type": "text"
      },
      "cell_type": "markdown",
      "source": [
        "Найдите p-value для статистики Стьюдента, используя функцию `stats.ttest_ind`."
      ]
    },
    {
      "metadata": {
        "id": "SsNscf2tMsx9",
        "colab_type": "text"
      },
      "cell_type": "markdown",
      "source": [
        "### РЕШЕНИЕ"
      ]
    },
    {
      "metadata": {
        "id": "Ks_Z_3JLMsx-",
        "colab_type": "code",
        "colab": {}
      },
      "cell_type": "code",
      "source": [
        "from scipy.stats import ttest_ind\n"
      ],
      "execution_count": 0,
      "outputs": []
    },
    {
      "metadata": {
        "id": "70DxesJdMsyF",
        "colab_type": "text"
      },
      "cell_type": "markdown",
      "source": [
        "Дополнительная проверка: значение статистики Стьюдента, посчитанная двумя способами, должны совпадать"
      ]
    },
    {
      "metadata": {
        "id": "clZFYTykMsyF",
        "colab_type": "text"
      },
      "cell_type": "markdown",
      "source": [
        "Ответ запишите в переменную `answer3` с точностью до 2 знака после запятой"
      ]
    },
    {
      "metadata": {
        "id": "F_jOfFgWMsyI",
        "colab_type": "text"
      },
      "cell_type": "markdown",
      "source": [
        "### Ответы"
      ]
    },
    {
      "metadata": {
        "scrolled": true,
        "id": "ZjCuOdWmMsyJ",
        "colab_type": "code",
        "colab": {
          "base_uri": "https://localhost:8080/",
          "height": 201
        },
        "outputId": "48661855-5e4c-4fd3-ff3b-381fbfb91a7e"
      },
      "cell_type": "code",
      "source": [
        "output = \"\"\"Confidence interval:{0:.2f}\n",
        "T score custom {1:.2f}\n",
        "p value {2:.2f}\"\"\"\n",
        "print(output.format(answer1, answer2, answer3))"
      ],
      "execution_count": 5,
      "outputs": [
        {
          "output_type": "error",
          "ename": "NameError",
          "evalue": "ignored",
          "traceback": [
            "\u001b[0;31m---------------------------------------------------------------------------\u001b[0m",
            "\u001b[0;31mNameError\u001b[0m                                 Traceback (most recent call last)",
            "\u001b[0;32m<ipython-input-5-424a5aa11c56>\u001b[0m in \u001b[0;36m<module>\u001b[0;34m()\u001b[0m\n\u001b[1;32m      2\u001b[0m \u001b[0mT\u001b[0m \u001b[0mscore\u001b[0m \u001b[0mcustom\u001b[0m \u001b[0;34m{\u001b[0m\u001b[0;36m1\u001b[0m\u001b[0;34m:\u001b[0m\u001b[0;36m.2\u001b[0m\u001b[0mf\u001b[0m\u001b[0;34m}\u001b[0m\u001b[0;34m\u001b[0m\u001b[0;34m\u001b[0m\u001b[0m\n\u001b[1;32m      3\u001b[0m p value {2:.2f}\"\"\"\n\u001b[0;32m----> 4\u001b[0;31m \u001b[0mprint\u001b[0m\u001b[0;34m(\u001b[0m\u001b[0moutput\u001b[0m\u001b[0;34m.\u001b[0m\u001b[0mformat\u001b[0m\u001b[0;34m(\u001b[0m\u001b[0manswer1\u001b[0m\u001b[0;34m,\u001b[0m \u001b[0manswer2\u001b[0m\u001b[0;34m,\u001b[0m \u001b[0manswer3\u001b[0m\u001b[0;34m)\u001b[0m\u001b[0;34m)\u001b[0m\u001b[0;34m\u001b[0m\u001b[0;34m\u001b[0m\u001b[0m\n\u001b[0m",
            "\u001b[0;31mNameError\u001b[0m: name 'answer1' is not defined"
          ]
        }
      ]
    }
  ]
}