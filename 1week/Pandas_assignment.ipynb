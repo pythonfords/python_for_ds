{
  "nbformat": 4,
  "nbformat_minor": 0,
  "metadata": {
    "colab": {
      "name": "Pandas_assignment.ipynb",
      "version": "0.3.2",
      "provenance": [],
      "toc_visible": true,
      "include_colab_link": true
    },
    "kernelspec": {
      "display_name": "Python 3",
      "language": "python",
      "name": "python3"
    }
  },
  "cells": [
    {
      "cell_type": "markdown",
      "metadata": {
        "id": "view-in-github",
        "colab_type": "text"
      },
      "source": [
        "<a href=\"https://colab.research.google.com/github/pythonfords/python_for_ds/blob/master/1week/Pandas_assignment.ipynb\" target=\"_parent\"><img src=\"https://colab.research.google.com/assets/colab-badge.svg\" alt=\"Open In Colab\"/></a>"
      ]
    },
    {
      "metadata": {
        "id": "RhH7swT-3vYy",
        "colab_type": "code",
        "colab": {}
      },
      "cell_type": "code",
      "source": [
        "import numpy as np\n",
        "import pandas as pd\n",
        "\n",
        "from geopy.distance import vincenty\n",
        "import datetime\n",
        "import time"
      ],
      "execution_count": 0,
      "outputs": []
    },
    {
      "metadata": {
        "id": "9RNXS8V93vY8",
        "colab_type": "text"
      },
      "cell_type": "markdown",
      "source": [
        "### Введение"
      ]
    },
    {
      "metadata": {
        "id": "RvNm7SJb3zC-",
        "colab_type": "code",
        "colab": {}
      },
      "cell_type": "code",
      "source": [
        ""
      ],
      "execution_count": 0,
      "outputs": []
    },
    {
      "metadata": {
        "id": "6mLb23Ea34bc",
        "colab_type": "code",
        "colab": {
          "base_uri": "https://localhost:8080/",
          "height": 121
        },
        "outputId": "1cc648ae-5f50-43a1-f671-86a2ab695639"
      },
      "cell_type": "code",
      "source": [
        "from google.colab import drive\n",
        "drive.mount('/gdrive')"
      ],
      "execution_count": 4,
      "outputs": [
        {
          "output_type": "stream",
          "text": [
            "Go to this URL in a browser: https://accounts.google.com/o/oauth2/auth?client_id=947318989803-6bn6qk8qdgf4n4g3pfee6491hc0brc4i.apps.googleusercontent.com&redirect_uri=urn%3Aietf%3Awg%3Aoauth%3A2.0%3Aoob&scope=email%20https%3A%2F%2Fwww.googleapis.com%2Fauth%2Fdocs.test%20https%3A%2F%2Fwww.googleapis.com%2Fauth%2Fdrive%20https%3A%2F%2Fwww.googleapis.com%2Fauth%2Fdrive.photos.readonly%20https%3A%2F%2Fwww.googleapis.com%2Fauth%2Fpeopleapi.readonly&response_type=code\n",
            "\n",
            "Enter your authorization code:\n",
            "··········\n",
            "Mounted at /gdrive\n"
          ],
          "name": "stdout"
        }
      ]
    },
    {
      "metadata": {
        "id": "cGjysDHu3vY-",
        "colab_type": "text"
      },
      "cell_type": "markdown",
      "source": [
        "#### Загрузите csv файл в датафрейм"
      ]
    },
    {
      "metadata": {
        "id": "KKw8Duho3vY_",
        "colab_type": "code",
        "colab": {}
      },
      "cell_type": "code",
      "source": [
        "citybike = pd.read_csv('/gdrive/My Drive/data/1week/201809-citibike-tripdata.csv.zip')"
      ],
      "execution_count": 0,
      "outputs": []
    },
    {
      "metadata": {
        "id": "uD74AdBz3vZE",
        "colab_type": "code",
        "colab": {
          "base_uri": "https://localhost:8080/",
          "height": 434
        },
        "outputId": "7a4c5873-68c9-4af5-c818-b3c185b1252e"
      },
      "cell_type": "code",
      "source": [
        "citybike.head()"
      ],
      "execution_count": 7,
      "outputs": [
        {
          "output_type": "execute_result",
          "data": {
            "text/html": [
              "<div>\n",
              "<style scoped>\n",
              "    .dataframe tbody tr th:only-of-type {\n",
              "        vertical-align: middle;\n",
              "    }\n",
              "\n",
              "    .dataframe tbody tr th {\n",
              "        vertical-align: top;\n",
              "    }\n",
              "\n",
              "    .dataframe thead th {\n",
              "        text-align: right;\n",
              "    }\n",
              "</style>\n",
              "<table border=\"1\" class=\"dataframe\">\n",
              "  <thead>\n",
              "    <tr style=\"text-align: right;\">\n",
              "      <th></th>\n",
              "      <th>tripduration</th>\n",
              "      <th>starttime</th>\n",
              "      <th>stoptime</th>\n",
              "      <th>start station id</th>\n",
              "      <th>start station name</th>\n",
              "      <th>start station latitude</th>\n",
              "      <th>start station longitude</th>\n",
              "      <th>end station id</th>\n",
              "      <th>end station name</th>\n",
              "      <th>end station latitude</th>\n",
              "      <th>end station longitude</th>\n",
              "      <th>bikeid</th>\n",
              "      <th>usertype</th>\n",
              "      <th>birth year</th>\n",
              "      <th>gender</th>\n",
              "    </tr>\n",
              "  </thead>\n",
              "  <tbody>\n",
              "    <tr>\n",
              "      <th>0</th>\n",
              "      <td>1635</td>\n",
              "      <td>2018-09-01 00:00:05.2690</td>\n",
              "      <td>2018-09-01 00:27:20.6340</td>\n",
              "      <td>252.0</td>\n",
              "      <td>MacDougal St &amp; Washington Sq</td>\n",
              "      <td>40.732264</td>\n",
              "      <td>-73.998522</td>\n",
              "      <td>366.0</td>\n",
              "      <td>Clinton Ave &amp; Myrtle Ave</td>\n",
              "      <td>40.693261</td>\n",
              "      <td>-73.968896</td>\n",
              "      <td>25577</td>\n",
              "      <td>Subscriber</td>\n",
              "      <td>1980</td>\n",
              "      <td>1</td>\n",
              "    </tr>\n",
              "    <tr>\n",
              "      <th>1</th>\n",
              "      <td>132</td>\n",
              "      <td>2018-09-01 00:00:11.2810</td>\n",
              "      <td>2018-09-01 00:02:23.4810</td>\n",
              "      <td>314.0</td>\n",
              "      <td>Cadman Plaza West &amp; Montague St</td>\n",
              "      <td>40.693830</td>\n",
              "      <td>-73.990539</td>\n",
              "      <td>3242.0</td>\n",
              "      <td>Schermerhorn St &amp; Court St</td>\n",
              "      <td>40.691029</td>\n",
              "      <td>-73.991834</td>\n",
              "      <td>34377</td>\n",
              "      <td>Subscriber</td>\n",
              "      <td>1969</td>\n",
              "      <td>0</td>\n",
              "    </tr>\n",
              "    <tr>\n",
              "      <th>2</th>\n",
              "      <td>3337</td>\n",
              "      <td>2018-09-01 00:00:20.6490</td>\n",
              "      <td>2018-09-01 00:55:58.5470</td>\n",
              "      <td>3142.0</td>\n",
              "      <td>1 Ave &amp; E 62 St</td>\n",
              "      <td>40.761227</td>\n",
              "      <td>-73.960940</td>\n",
              "      <td>3384.0</td>\n",
              "      <td>Smith St &amp; 3 St</td>\n",
              "      <td>40.678724</td>\n",
              "      <td>-73.995991</td>\n",
              "      <td>30496</td>\n",
              "      <td>Subscriber</td>\n",
              "      <td>1975</td>\n",
              "      <td>1</td>\n",
              "    </tr>\n",
              "    <tr>\n",
              "      <th>3</th>\n",
              "      <td>436</td>\n",
              "      <td>2018-09-01 00:00:21.7460</td>\n",
              "      <td>2018-09-01 00:07:38.5830</td>\n",
              "      <td>308.0</td>\n",
              "      <td>St James Pl &amp; Oliver St</td>\n",
              "      <td>40.713079</td>\n",
              "      <td>-73.998512</td>\n",
              "      <td>3690.0</td>\n",
              "      <td>Park Pl &amp; Church St</td>\n",
              "      <td>40.713342</td>\n",
              "      <td>-74.009355</td>\n",
              "      <td>28866</td>\n",
              "      <td>Subscriber</td>\n",
              "      <td>1984</td>\n",
              "      <td>2</td>\n",
              "    </tr>\n",
              "    <tr>\n",
              "      <th>4</th>\n",
              "      <td>8457</td>\n",
              "      <td>2018-09-01 00:00:27.3150</td>\n",
              "      <td>2018-09-01 02:21:25.3080</td>\n",
              "      <td>345.0</td>\n",
              "      <td>W 13 St &amp; 6 Ave</td>\n",
              "      <td>40.736494</td>\n",
              "      <td>-73.997044</td>\n",
              "      <td>380.0</td>\n",
              "      <td>W 4 St &amp; 7 Ave S</td>\n",
              "      <td>40.734011</td>\n",
              "      <td>-74.002939</td>\n",
              "      <td>20943</td>\n",
              "      <td>Customer</td>\n",
              "      <td>1994</td>\n",
              "      <td>1</td>\n",
              "    </tr>\n",
              "  </tbody>\n",
              "</table>\n",
              "</div>"
            ],
            "text/plain": [
              "   tripduration                 starttime                  stoptime  \\\n",
              "0          1635  2018-09-01 00:00:05.2690  2018-09-01 00:27:20.6340   \n",
              "1           132  2018-09-01 00:00:11.2810  2018-09-01 00:02:23.4810   \n",
              "2          3337  2018-09-01 00:00:20.6490  2018-09-01 00:55:58.5470   \n",
              "3           436  2018-09-01 00:00:21.7460  2018-09-01 00:07:38.5830   \n",
              "4          8457  2018-09-01 00:00:27.3150  2018-09-01 02:21:25.3080   \n",
              "\n",
              "   start station id               start station name  start station latitude  \\\n",
              "0             252.0     MacDougal St & Washington Sq               40.732264   \n",
              "1             314.0  Cadman Plaza West & Montague St               40.693830   \n",
              "2            3142.0                  1 Ave & E 62 St               40.761227   \n",
              "3             308.0          St James Pl & Oliver St               40.713079   \n",
              "4             345.0                  W 13 St & 6 Ave               40.736494   \n",
              "\n",
              "   start station longitude  end station id            end station name  \\\n",
              "0               -73.998522           366.0    Clinton Ave & Myrtle Ave   \n",
              "1               -73.990539          3242.0  Schermerhorn St & Court St   \n",
              "2               -73.960940          3384.0             Smith St & 3 St   \n",
              "3               -73.998512          3690.0         Park Pl & Church St   \n",
              "4               -73.997044           380.0            W 4 St & 7 Ave S   \n",
              "\n",
              "   end station latitude  end station longitude  bikeid    usertype  \\\n",
              "0             40.693261             -73.968896   25577  Subscriber   \n",
              "1             40.691029             -73.991834   34377  Subscriber   \n",
              "2             40.678724             -73.995991   30496  Subscriber   \n",
              "3             40.713342             -74.009355   28866  Subscriber   \n",
              "4             40.734011             -74.002939   20943    Customer   \n",
              "\n",
              "   birth year  gender  \n",
              "0        1980       1  \n",
              "1        1969       0  \n",
              "2        1975       1  \n",
              "3        1984       2  \n",
              "4        1994       1  "
            ]
          },
          "metadata": {
            "tags": []
          },
          "execution_count": 7
        }
      ]
    },
    {
      "metadata": {
        "id": "UbVFU4eT3vZN",
        "colab_type": "text"
      },
      "cell_type": "markdown",
      "source": [
        "1. Найти общее количество строк и столбцов в датасете - указать первым число строк, вторым - число столбцов"
      ]
    },
    {
      "metadata": {
        "scrolled": true,
        "id": "suROJvQ83vZO",
        "colab_type": "code",
        "colab": {
          "base_uri": "https://localhost:8080/",
          "height": 34
        },
        "outputId": "1b68d861-4ae5-4e56-9d86-9b68ec2142ce"
      },
      "cell_type": "code",
      "source": [
        "citybike.shape"
      ],
      "execution_count": 8,
      "outputs": [
        {
          "output_type": "execute_result",
          "data": {
            "text/plain": [
              "(1877884, 15)"
            ]
          },
          "metadata": {
            "tags": []
          },
          "execution_count": 8
        }
      ]
    },
    {
      "metadata": {
        "id": "K_0lJTls3vZU",
        "colab_type": "text"
      },
      "cell_type": "markdown",
      "source": [
        "Найти среднюю длину поездок в минутах(столбец tripduration) c точностью до 2 знака"
      ]
    },
    {
      "metadata": {
        "id": "SyCcPjXc3vZW",
        "colab_type": "code",
        "colab": {
          "base_uri": "https://localhost:8080/",
          "height": 34
        },
        "outputId": "f8998489-eb84-4b56-f87c-d53cb59721f1"
      },
      "cell_type": "code",
      "source": [
        "citybike['tripduration'] = citybike['tripduration']/60\n",
        "round(citybike.describe()['tripduration']['mean'], 2)"
      ],
      "execution_count": 9,
      "outputs": [
        {
          "output_type": "execute_result",
          "data": {
            "text/plain": [
              "16.13"
            ]
          },
          "metadata": {
            "tags": []
          },
          "execution_count": 9
        }
      ]
    },
    {
      "metadata": {
        "id": "4KozA6wn3vZc",
        "colab_type": "text"
      },
      "cell_type": "markdown",
      "source": [
        "Сколько поездок начались и закончились в той же самой станции?"
      ]
    },
    {
      "metadata": {
        "id": "3LWC4b823vZd",
        "colab_type": "code",
        "colab": {
          "base_uri": "https://localhost:8080/",
          "height": 34
        },
        "outputId": "754a2f5b-272b-4197-f664-03ef9917cb69"
      },
      "cell_type": "code",
      "source": [
        "citybike[(citybike['start station id'] == citybike['end station id'])].shape"
      ],
      "execution_count": 11,
      "outputs": [
        {
          "output_type": "execute_result",
          "data": {
            "text/plain": [
              "(41364, 15)"
            ]
          },
          "metadata": {
            "tags": []
          },
          "execution_count": 11
        }
      ]
    },
    {
      "metadata": {
        "id": "z44QYl9H3vZj",
        "colab_type": "text"
      },
      "cell_type": "markdown",
      "source": [
        "Сколько поездок начались и закончились в той же самой станции? Указать количество уникальных байков"
      ]
    },
    {
      "metadata": {
        "id": "mhuDqklc3vZm",
        "colab_type": "code",
        "colab": {
          "base_uri": "https://localhost:8080/",
          "height": 34
        },
        "outputId": "5870a5e5-ccc7-42d2-a3bd-6ed668b00279"
      },
      "cell_type": "code",
      "source": [
        "citybike[(citybike['start station id'] == citybike['end station id'])]['bikeid'].unique().shape"
      ],
      "execution_count": 12,
      "outputs": [
        {
          "output_type": "execute_result",
          "data": {
            "text/plain": [
              "(9939,)"
            ]
          },
          "metadata": {
            "tags": []
          },
          "execution_count": 12
        }
      ]
    },
    {
      "metadata": {
        "id": "9UeNd5O23vZt",
        "colab_type": "text"
      },
      "cell_type": "markdown",
      "source": [
        "Какой самый используемый байк(bikeid) в городе по количеству поездок? "
      ]
    },
    {
      "metadata": {
        "id": "wkYAVU0e3vZu",
        "colab_type": "code",
        "colab": {
          "base_uri": "https://localhost:8080/",
          "height": 50
        },
        "outputId": "1bb25445-c46e-45d9-9d36-c2a3447357c4"
      },
      "cell_type": "code",
      "source": [
        "citybike['bikeid'].value_counts()[:1]"
      ],
      "execution_count": 20,
      "outputs": [
        {
          "output_type": "execute_result",
          "data": {
            "text/plain": [
              "33875    559\n",
              "Name: bikeid, dtype: int64"
            ]
          },
          "metadata": {
            "tags": []
          },
          "execution_count": 20
        }
      ]
    },
    {
      "metadata": {
        "id": "tw9LPkFL3vZ1",
        "colab_type": "text"
      },
      "cell_type": "markdown",
      "source": [
        "Найдите байк(bikeid), у которого в среднем продолжительность поездок выше, чем у всех остальных"
      ]
    },
    {
      "metadata": {
        "scrolled": true,
        "id": "h4ietPt53vZ2",
        "colab_type": "code",
        "colab": {
          "base_uri": "https://localhost:8080/",
          "height": 67
        },
        "outputId": "d6a8d726-4b88-41db-f8f0-2cfd46462598"
      },
      "cell_type": "code",
      "source": [
        "citybike.groupby('bikeid')['tripduration'].mean().sort_values(ascending=False)[:1]"
      ],
      "execution_count": 21,
      "outputs": [
        {
          "output_type": "execute_result",
          "data": {
            "text/plain": [
              "bikeid\n",
              "17548    8133.706667\n",
              "Name: tripduration, dtype: float64"
            ]
          },
          "metadata": {
            "tags": []
          },
          "execution_count": 21
        }
      ]
    },
    {
      "metadata": {
        "id": "8N25Kr3K3vZ7",
        "colab_type": "text"
      },
      "cell_type": "markdown",
      "source": [
        "Найдите количество строк, в которых отсутствуют данные о start station id"
      ]
    },
    {
      "metadata": {
        "id": "ACXyu_Kw3vZ8",
        "colab_type": "code",
        "colab": {
          "base_uri": "https://localhost:8080/",
          "height": 34
        },
        "outputId": "bad715a2-36c8-4f0b-b8f6-d6052d542b48"
      },
      "cell_type": "code",
      "source": [
        "citybike[citybike['start station id'].isnull()].shape"
      ],
      "execution_count": 22,
      "outputs": [
        {
          "output_type": "execute_result",
          "data": {
            "text/plain": [
              "(716, 17)"
            ]
          },
          "metadata": {
            "tags": []
          },
          "execution_count": 22
        }
      ]
    },
    {
      "metadata": {
        "id": "vGeEDTwQ3vaC",
        "colab_type": "text"
      },
      "cell_type": "markdown",
      "source": [
        "Какова средняя продолжительность поездки в зависимости от типа подписки c точностью до 2 знака? "
      ]
    },
    {
      "metadata": {
        "scrolled": true,
        "id": "e2ui4a143vaE",
        "colab_type": "code",
        "colab": {
          "base_uri": "https://localhost:8080/",
          "height": 84
        },
        "outputId": "423e7e0e-3252-40c5-9d5d-a6c8fe1607d4"
      },
      "cell_type": "code",
      "source": [
        "round(citybike.groupby('usertype')['tripduration'].mean(),2)"
      ],
      "execution_count": 23,
      "outputs": [
        {
          "output_type": "execute_result",
          "data": {
            "text/plain": [
              "usertype\n",
              "Customer      33.42\n",
              "Subscriber    13.33\n",
              "Name: tripduration, dtype: float64"
            ]
          },
          "metadata": {
            "tags": []
          },
          "execution_count": 23
        }
      ]
    },
    {
      "metadata": {
        "id": "uxbuYFVr3vaM",
        "colab_type": "text"
      },
      "cell_type": "markdown",
      "source": [
        "Для каждой станции найдите расстояние между станциями, а затем найдите среднее расстояние по всем поездкам, предварительно выкинув замкнутые траектории(те у которых совпадают start station id = end station id). \n",
        "\n",
        "Hint: можно воспользоваться библиотекой geopy и взять расстояние vincenty(минимальное расстояние между точками)\n"
      ]
    },
    {
      "metadata": {
        "id": "gsK9NKHo3vaM",
        "colab_type": "code",
        "colab": {
          "base_uri": "https://localhost:8080/",
          "height": 34
        },
        "outputId": "47abac38-9bc1-4b42-f7f5-3899001fb3f5"
      },
      "cell_type": "code",
      "source": [
        "citybike['distance_km'] = citybike.apply(lambda x: vincenty((x['start station latitude'], x['start station longitude']),\n",
        "                                                            (x['end station latitude'], x['end station longitude'])).kilometers, axis=1)\n",
        "\n",
        "print(citybike['distance_km'].mean())\n",
        "\n"
      ],
      "execution_count": 17,
      "outputs": [
        {
          "output_type": "stream",
          "text": [
            "1.8088453985540238\n"
          ],
          "name": "stdout"
        }
      ]
    },
    {
      "metadata": {
        "id": "TXWQxCZS3vaS",
        "colab_type": "code",
        "colab": {
          "base_uri": "https://localhost:8080/",
          "height": 118
        },
        "outputId": "4da61037-5c32-4e2b-a500-9a53c8f89898"
      },
      "cell_type": "code",
      "source": [
        "citybike['end station name'].value_counts()[:5]"
      ],
      "execution_count": 18,
      "outputs": [
        {
          "output_type": "execute_result",
          "data": {
            "text/plain": [
              "Pershing Square North    13834\n",
              "E 17 St & Broadway       11964\n",
              "West St & Chambers St    11173\n",
              "Broadway & E 22 St       10962\n",
              "W 21 St & 6 Ave          10431\n",
              "Name: end station name, dtype: int64"
            ]
          },
          "metadata": {
            "tags": []
          },
          "execution_count": 18
        }
      ]
    },
    {
      "metadata": {
        "id": "j2dqye0t3vaX",
        "colab_type": "text"
      },
      "cell_type": "markdown",
      "source": [
        "Выберите станцию (start station id) с максимальным количеством отправлений с 18 до 20 вечера"
      ]
    },
    {
      "metadata": {
        "id": "NUJXbvj03vaZ",
        "colab_type": "code",
        "colab": {}
      },
      "cell_type": "code",
      "source": [
        "citybike['end_hour'] = citybike['stoptime'].apply(lambda x: datetime.datetime.fromtimestamp(\n",
        "            time.mktime(datetime.datetime.strptime(x.strip(), \"%Y-%m-%d %H:%M:%S.%f\").timetuple())).hour)"
      ],
      "execution_count": 0,
      "outputs": []
    },
    {
      "metadata": {
        "id": "Le4O5JGf3vaf",
        "colab_type": "code",
        "colab": {}
      },
      "cell_type": "code",
      "source": [
        "citybike['start_hour'] = citybike['starttime'].apply(lambda x: datetime.datetime.fromtimestamp(\n",
        "                                        time.mktime(datetime.datetime.strptime(x.strip(), \"%Y-%m-%d %H:%M:%S.%f\").timetuple())).hour)"
      ],
      "execution_count": 0,
      "outputs": []
    },
    {
      "metadata": {
        "scrolled": false,
        "id": "nTZKaPhG3vai",
        "colab_type": "code",
        "colab": {
          "base_uri": "https://localhost:8080/",
          "height": 118
        },
        "outputId": "9f28adc0-0b8c-4d86-a171-52105f568040"
      },
      "cell_type": "code",
      "source": [
        "citybike[(citybike.start_hour.isin([18, 19, 20]))]['start station id'].value_counts().head()"
      ],
      "execution_count": 26,
      "outputs": [
        {
          "output_type": "execute_result",
          "data": {
            "text/plain": [
              "519.0    3181\n",
              "426.0    2701\n",
              "402.0    2680\n",
              "459.0    2605\n",
              "477.0    2418\n",
              "Name: start station id, dtype: int64"
            ]
          },
          "metadata": {
            "tags": []
          },
          "execution_count": 26
        }
      ]
    },
    {
      "metadata": {
        "id": "gYZdME4s3van",
        "colab_type": "text"
      },
      "cell_type": "markdown",
      "source": [
        "Выберите станции(end station id), в которые приезжают с 6 до 10 утра\n"
      ]
    },
    {
      "metadata": {
        "id": "D7VUgOw43vao",
        "colab_type": "code",
        "colab": {}
      },
      "cell_type": "code",
      "source": [
        "end_stations = [3140, 3106, 3116, 369]"
      ],
      "execution_count": 0,
      "outputs": []
    },
    {
      "metadata": {
        "scrolled": true,
        "id": "sQEGe-5B3vas",
        "colab_type": "code",
        "colab": {
          "base_uri": "https://localhost:8080/",
          "height": 34
        },
        "outputId": "ad7681b8-7bb8-48aa-c295-524455cb1278"
      },
      "cell_type": "code",
      "source": [
        "citybike[(citybike.end_hour.isin([6,7,8,9,10])) &\n",
        "         (citybike['end station id'].isin(end_stations))]['end station id'].unique()"
      ],
      "execution_count": 28,
      "outputs": [
        {
          "output_type": "execute_result",
          "data": {
            "text/plain": [
              "array([3106., 3116., 3140.,  369.])"
            ]
          },
          "metadata": {
            "tags": []
          },
          "execution_count": 28
        }
      ]
    }
  ]
}